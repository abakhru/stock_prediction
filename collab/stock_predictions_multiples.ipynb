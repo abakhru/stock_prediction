{
 "cells": [
  {
   "cell_type": "code",
   "execution_count": 19,
   "metadata": {
    "colab": {},
    "colab_type": "code",
    "id": "F2MXAVwaDsXk"
   },
   "outputs": [],
   "source": [
    "import tensorflow as tf\n",
    "from tensorflow.keras.layers import Input, LSTM, GRU, SimpleRNN, Dense, MaxPooling1D\n",
    "from tensorflow.keras.models import Model\n",
    "from tensorflow.keras.optimizers import Adam, SGD\n",
    "import numpy as np\n",
    "import pandas as pd\n",
    "import pandas_datareader\n",
    "import matplotlib.pyplot as plt\n",
    "from sklearn.preprocessing import StandardScaler\n",
    "from pathlib import Path\n",
    "from datetime import datetime"
   ]
  },
  {
   "cell_type": "code",
   "execution_count": 28,
   "metadata": {
    "colab": {
     "base_uri": "https://localhost:8080/",
     "height": 221
    },
    "colab_type": "code",
    "id": "SaJEsTBIgCOB",
    "outputId": "430f82a4-c802-4129-9572-a87c4c6e184f"
   },
   "outputs": [
    {
     "name": "stdout",
     "output_type": "stream",
     "text": [
      "Head:           Date   High        Low       Open      Close    Volume  Adj Close\n",
      "0  2010-06-29  25.00  17.540001  19.000000  23.889999  18766300  23.889999\n",
      "1  2010-06-30  30.42  23.299999  25.790001  23.830000  17187100  23.830000\n",
      "2  2010-07-01  25.92  20.270000  25.000000  21.959999   8218800  21.959999\n",
      "3  2010-07-02  23.10  18.709999  23.000000  19.200001   5139800  19.200001\n",
      "4  2010-07-06  20.00  15.830000  20.000000  16.110001   6866900  16.110001\n",
      "Tail:              Date         High          Low         Open        Close   Volume  \\\n",
      "2541  2020-08-03  1509.810059  1444.380005  1449.199951  1485.000000  8809300   \n",
      "2542  2020-08-04  1527.410034  1462.000000  1495.010010  1487.000000  8415000   \n",
      "2543  2020-08-05  1499.839966  1468.310059  1492.989990  1485.020020  4978000   \n",
      "2544  2020-08-06  1517.310059  1477.260010  1490.829956  1489.579956  5992300   \n",
      "2545  2020-08-07  1499.750000  1415.010010  1499.540039  1452.709961  8883500   \n",
      "\n",
      "        Adj Close  \n",
      "2541  1485.000000  \n",
      "2542  1487.000000  \n",
      "2543  1485.020020  \n",
      "2544  1489.579956  \n",
      "2545  1452.709961  \n"
     ]
    },
    {
     "data": {
      "text/plain": [
       "(2546, 7)"
      ]
     },
     "execution_count": 28,
     "metadata": {},
     "output_type": "execute_result"
    }
   ],
   "source": [
    "TODAY_DATE = datetime.now().strftime(\"%Y-%m-%d\")\n",
    "data_dir = Path.cwd().parent.resolve().joinpath('data')\n",
    "stock_symbol = 'TSLA'\n",
    "\n",
    "csv_path = data_dir.joinpath(f'{stock_symbol.lower()}_quote_{TODAY_DATE}.csv')\n",
    "if csv_path.exists():\n",
    "    df = pd.read_csv(csv_path)\n",
    "else:\n",
    "    df = pandas_datareader.DataReader(name=stock_symbol,\n",
    "                                      data_source='yahoo',\n",
    "                                      start='2000-01-01', \n",
    "                                      end=TODAY_DATE)\n",
    "    df.to_csv(csv_path)\n",
    "\n",
    "# df = pd.read_csv('https://raw.githubusercontent.com/plotly/datasets/master/tesla-stock-price.csv')\n",
    "print(\"Head: \", df.head())\n",
    "print(\"Tail: \", df.tail())\n",
    "df.shape"
   ]
  },
  {
   "cell_type": "code",
   "execution_count": 21,
   "metadata": {
    "colab": {
     "base_uri": "https://localhost:8080/",
     "height": 299
    },
    "colab_type": "code",
    "id": "mywIYDsmmMR3",
    "outputId": "1bfcea94-aa73-4fa0-ef99-0e331893f855"
   },
   "outputs": [
    {
     "name": "stdout",
     "output_type": "stream",
     "text": [
      "High in Blue, Low in Orange\n"
     ]
    },
    {
     "data": {
      "text/plain": [
       "<AxesSubplot:>"
      ]
     },
     "execution_count": 21,
     "metadata": {},
     "output_type": "execute_result"
    },
    {
     "data": {
      "image/png": "[encoded data removed]",
      "text/plain": [
       "<Figure size 432x288 with 1 Axes>"
      ]
     },
     "metadata": {
      "needs_background": "light"
     },
     "output_type": "display_data"
    }
   ],
   "source": [
    "# understand data better\n",
    "\n",
    "print(\"High in Blue, Low in Orange\")\n",
    "df['High'].hist()\n",
    "df['Low'].hist()"
   ]
  },
  {
   "cell_type": "code",
   "execution_count": 22,
   "metadata": {
    "colab": {},
    "colab_type": "code",
    "id": "DEzDCOyQhsR1"
   },
   "outputs": [],
   "source": [
    "series = df['Close'].values.reshape(-1, 1)"
   ]
  },
  {
   "cell_type": "code",
   "execution_count": 23,
   "metadata": {
    "colab": {},
    "colab_type": "code",
    "id": "9T-qAESNihSE"
   },
   "outputs": [],
   "source": [
    "scaler = StandardScaler()\n",
    "scaler.fit(series[:len(series) // 2])\n",
    "series = scaler.transform(series).flatten()"
   ]
  },
  {
   "cell_type": "code",
   "execution_count": 24,
   "metadata": {
    "colab": {
     "base_uri": "https://localhost:8080/",
     "height": 34
    },
    "colab_type": "code",
    "id": "PONvmRRzitcY",
    "outputId": "ecb86f55-5cb3-4b7e-c9c7-abc0a0250c89"
   },
   "outputs": [
    {
     "name": "stdout",
     "output_type": "stream",
     "text": [
      "X.shape:  (2536, 10, 1) Y.shape:  (2536,)\n"
     ]
    }
   ],
   "source": [
    "# covert to supervised learning dataset\n",
    "T = 10\n",
    "D = 1\n",
    "X = []\n",
    "Y = []\n",
    "for t in range(len(series) - T):\n",
    "  x = series[t:t+T]\n",
    "  X.append(x)\n",
    "  y = series[t+T]\n",
    "  Y.append(y)\n",
    "\n",
    "X = np.array(X).reshape(-1, T, 1) # convert to 3D\n",
    "Y = np.array(Y)\n",
    "N = len(X)\n",
    "print(\"X.shape: \", X.shape, \"Y.shape: \", Y.shape)"
   ]
  },
  {
   "cell_type": "code",
   "execution_count": 25,
   "metadata": {
    "colab": {
     "base_uri": "https://localhost:8080/",
     "height": 1000
    },
    "colab_type": "code",
    "id": "ktRQhG09i3SG",
    "outputId": "20e598ff-2f5b-469a-b6ac-614cab8faf89"
   },
   "outputs": [
    {
     "name": "stdout",
     "output_type": "stream",
     "text": [
      "Epoch 1/80\n",
      "40/40 [==============================] - 1s 13ms/step - loss: 0.0351 - val_loss: 6.2748\n",
      "Epoch 2/80\n",
      "40/40 [==============================] - 0s 10ms/step - loss: 0.0040 - val_loss: 6.1327\n",
      "Epoch 3/80\n",
      "40/40 [==============================] - 0s 6ms/step - loss: 0.0037 - val_loss: 5.9713\n",
      "Epoch 4/80\n",
      "40/40 [==============================] - 0s 5ms/step - loss: 0.0027 - val_loss: 5.8775\n",
      "Epoch 5/80\n",
      "40/40 [==============================] - 0s 6ms/step - loss: 0.0027 - val_loss: 5.7649\n",
      "Epoch 6/80\n",
      "40/40 [==============================] - 0s 6ms/step - loss: 0.0028 - val_loss: 5.6243\n",
      "Epoch 7/80\n",
      "40/40 [==============================] - 0s 6ms/step - loss: 0.0027 - val_loss: 5.5763\n",
      "Epoch 8/80\n",
      "40/40 [==============================] - 0s 5ms/step - loss: 0.0028 - val_loss: 5.6284\n",
      "Epoch 9/80\n",
      "40/40 [==============================] - 0s 6ms/step - loss: 0.0026 - val_loss: 5.5729\n",
      "Epoch 10/80\n",
      "40/40 [==============================] - 0s 6ms/step - loss: 0.0031 - val_loss: 5.4693\n",
      "Epoch 11/80\n",
      "40/40 [==============================] - 0s 6ms/step - loss: 0.0028 - val_loss: 5.4858\n",
      "Epoch 12/80\n",
      "40/40 [==============================] - 0s 6ms/step - loss: 0.0028 - val_loss: 5.3883\n",
      "Epoch 13/80\n",
      "40/40 [==============================] - 0s 6ms/step - loss: 0.0030 - val_loss: 5.3167\n",
      "Epoch 14/80\n",
      "40/40 [==============================] - 0s 7ms/step - loss: 0.0033 - val_loss: 5.3915\n",
      "Epoch 15/80\n",
      "40/40 [==============================] - 0s 5ms/step - loss: 0.0034 - val_loss: 5.5335\n",
      "Epoch 16/80\n",
      "40/40 [==============================] - 0s 5ms/step - loss: 0.0028 - val_loss: 5.2515\n",
      "Epoch 17/80\n",
      "40/40 [==============================] - 0s 5ms/step - loss: 0.0029 - val_loss: 5.3620\n",
      "Epoch 18/80\n",
      "40/40 [==============================] - 0s 6ms/step - loss: 0.0026 - val_loss: 5.3379\n",
      "Epoch 19/80\n",
      "40/40 [==============================] - 0s 5ms/step - loss: 0.0031 - val_loss: 5.3475\n",
      "Epoch 20/80\n",
      "40/40 [==============================] - 0s 6ms/step - loss: 0.0024 - val_loss: 5.3572\n",
      "Epoch 21/80\n",
      "40/40 [==============================] - 0s 6ms/step - loss: 0.0023 - val_loss: 5.6145\n",
      "Epoch 22/80\n",
      "40/40 [==============================] - 0s 7ms/step - loss: 0.0027 - val_loss: 5.4506\n",
      "Epoch 23/80\n",
      "40/40 [==============================] - 0s 6ms/step - loss: 0.0029 - val_loss: 5.5567\n",
      "Epoch 24/80\n",
      "40/40 [==============================] - 0s 6ms/step - loss: 0.0029 - val_loss: 5.5323\n",
      "Epoch 25/80\n",
      "40/40 [==============================] - 0s 6ms/step - loss: 0.0026 - val_loss: 5.7730\n",
      "Epoch 26/80\n",
      "40/40 [==============================] - 0s 6ms/step - loss: 0.0030 - val_loss: 5.8567\n",
      "Epoch 27/80\n",
      "40/40 [==============================] - 0s 6ms/step - loss: 0.0026 - val_loss: 5.7044\n",
      "Epoch 28/80\n",
      "40/40 [==============================] - 0s 6ms/step - loss: 0.0028 - val_loss: 5.5939\n",
      "Epoch 29/80\n",
      "40/40 [==============================] - 0s 6ms/step - loss: 0.0027 - val_loss: 5.6939\n",
      "Epoch 30/80\n",
      "40/40 [==============================] - 0s 6ms/step - loss: 0.0032 - val_loss: 5.7936\n",
      "Epoch 31/80\n",
      "40/40 [==============================] - 0s 6ms/step - loss: 0.0027 - val_loss: 5.8137\n",
      "Epoch 32/80\n",
      "40/40 [==============================] - 0s 6ms/step - loss: 0.0025 - val_loss: 5.7628\n",
      "Epoch 33/80\n",
      "40/40 [==============================] - 0s 6ms/step - loss: 0.0026 - val_loss: 5.6477\n",
      "Epoch 34/80\n",
      "40/40 [==============================] - 0s 5ms/step - loss: 0.0023 - val_loss: 6.0481\n",
      "Epoch 35/80\n",
      "40/40 [==============================] - 0s 6ms/step - loss: 0.0026 - val_loss: 5.8748\n",
      "Epoch 36/80\n",
      "40/40 [==============================] - 0s 6ms/step - loss: 0.0037 - val_loss: 5.9315\n",
      "Epoch 37/80\n",
      "40/40 [==============================] - 0s 5ms/step - loss: 0.0029 - val_loss: 5.9829\n",
      "Epoch 38/80\n",
      "40/40 [==============================] - 0s 5ms/step - loss: 0.0028 - val_loss: 5.9092\n",
      "Epoch 39/80\n",
      "40/40 [==============================] - 0s 6ms/step - loss: 0.0030 - val_loss: 6.0743\n",
      "Epoch 40/80\n",
      "40/40 [==============================] - 0s 6ms/step - loss: 0.0027 - val_loss: 6.2247\n",
      "Epoch 41/80\n",
      "40/40 [==============================] - 0s 6ms/step - loss: 0.0031 - val_loss: 5.7803\n",
      "Epoch 42/80\n",
      "40/40 [==============================] - 0s 5ms/step - loss: 0.0025 - val_loss: 6.1514\n",
      "Epoch 43/80\n",
      "40/40 [==============================] - 0s 6ms/step - loss: 0.0034 - val_loss: 6.0029\n",
      "Epoch 44/80\n",
      "40/40 [==============================] - 0s 8ms/step - loss: 0.0030 - val_loss: 6.3940\n",
      "Epoch 45/80\n",
      "40/40 [==============================] - 0s 6ms/step - loss: 0.0029 - val_loss: 6.0230\n",
      "Epoch 46/80\n",
      "40/40 [==============================] - 0s 6ms/step - loss: 0.0030 - val_loss: 6.4023\n",
      "Epoch 47/80\n",
      "40/40 [==============================] - 0s 5ms/step - loss: 0.0023 - val_loss: 5.8728\n",
      "Epoch 48/80\n",
      "40/40 [==============================] - 0s 6ms/step - loss: 0.0030 - val_loss: 5.8404\n",
      "Epoch 49/80\n",
      "40/40 [==============================] - 0s 5ms/step - loss: 0.0026 - val_loss: 6.1056\n",
      "Epoch 50/80\n",
      "40/40 [==============================] - 0s 5ms/step - loss: 0.0028 - val_loss: 5.9710\n",
      "Epoch 51/80\n",
      "40/40 [==============================] - 0s 6ms/step - loss: 0.0022 - val_loss: 5.8699\n",
      "Epoch 52/80\n",
      "40/40 [==============================] - 0s 5ms/step - loss: 0.0023 - val_loss: 5.8311\n",
      "Epoch 53/80\n",
      "40/40 [==============================] - 0s 5ms/step - loss: 0.0030 - val_loss: 5.9833\n",
      "Epoch 54/80\n",
      "40/40 [==============================] - 0s 6ms/step - loss: 0.0023 - val_loss: 5.9716\n",
      "Epoch 55/80\n",
      "40/40 [==============================] - 0s 6ms/step - loss: 0.0037 - val_loss: 5.8109\n",
      "Epoch 56/80\n",
      "40/40 [==============================] - 0s 5ms/step - loss: 0.0026 - val_loss: 5.9913\n",
      "Epoch 57/80\n",
      "40/40 [==============================] - 0s 5ms/step - loss: 0.0032 - val_loss: 6.3063\n",
      "Epoch 58/80\n",
      "40/40 [==============================] - 0s 5ms/step - loss: 0.0034 - val_loss: 6.1404\n",
      "Epoch 59/80\n",
      "40/40 [==============================] - 0s 5ms/step - loss: 0.0027 - val_loss: 6.1108\n",
      "Epoch 60/80\n",
      "40/40 [==============================] - 0s 5ms/step - loss: 0.0030 - val_loss: 5.9899\n",
      "Epoch 61/80\n",
      "40/40 [==============================] - 0s 5ms/step - loss: 0.0025 - val_loss: 6.1271\n",
      "Epoch 62/80\n",
      "40/40 [==============================] - 0s 5ms/step - loss: 0.0025 - val_loss: 5.8943\n",
      "Epoch 63/80\n",
      "40/40 [==============================] - 0s 5ms/step - loss: 0.0026 - val_loss: 5.9174\n",
      "Epoch 64/80\n",
      "40/40 [==============================] - 0s 6ms/step - loss: 0.0028 - val_loss: 5.5545\n",
      "Epoch 65/80\n",
      "40/40 [==============================] - 0s 6ms/step - loss: 0.0042 - val_loss: 5.6946\n",
      "Epoch 66/80\n",
      "40/40 [==============================] - 0s 5ms/step - loss: 0.0025 - val_loss: 5.8516\n",
      "Epoch 67/80\n",
      "40/40 [==============================] - 0s 5ms/step - loss: 0.0026 - val_loss: 5.7270\n",
      "Epoch 68/80\n",
      "40/40 [==============================] - 0s 5ms/step - loss: 0.0021 - val_loss: 5.8210\n",
      "Epoch 69/80\n",
      "40/40 [==============================] - 0s 6ms/step - loss: 0.0026 - val_loss: 5.6823\n",
      "Epoch 70/80\n",
      "40/40 [==============================] - 0s 5ms/step - loss: 0.0023 - val_loss: 5.6221\n",
      "Epoch 71/80\n",
      "40/40 [==============================] - 0s 5ms/step - loss: 0.0026 - val_loss: 5.8747\n",
      "Epoch 72/80\n",
      "40/40 [==============================] - 0s 5ms/step - loss: 0.0023 - val_loss: 5.7779\n",
      "Epoch 73/80\n",
      "40/40 [==============================] - 0s 5ms/step - loss: 0.0022 - val_loss: 5.8625\n",
      "Epoch 74/80\n",
      "40/40 [==============================] - 0s 5ms/step - loss: 0.0023 - val_loss: 5.7458\n",
      "Epoch 75/80\n",
      "40/40 [==============================] - 0s 5ms/step - loss: 0.0025 - val_loss: 5.5563\n",
      "Epoch 76/80\n",
      "40/40 [==============================] - 0s 5ms/step - loss: 0.0026 - val_loss: 5.4589\n",
      "Epoch 77/80\n",
      "40/40 [==============================] - 0s 5ms/step - loss: 0.0023 - val_loss: 5.7722\n",
      "Epoch 78/80\n",
      "40/40 [==============================] - 0s 5ms/step - loss: 0.0030 - val_loss: 5.4945\n",
      "Epoch 79/80\n",
      "40/40 [==============================] - 0s 5ms/step - loss: 0.0025 - val_loss: 5.4060\n",
      "Epoch 80/80\n",
      "40/40 [==============================] - 0s 5ms/step - loss: 0.0023 - val_loss: 5.5879\n"
     ]
    }
   ],
   "source": [
    "# Build the model\n",
    "i = Input(shape=(T, 1))\n",
    "x = LSTM(5)(i)\n",
    "x = Dense(1)(x)\n",
    "model = Model(i, x)\n",
    "model.compile(loss='mse', optimizer=Adam(lr=0.1))\n",
    "\n",
    "# train the RNN model\n",
    "r = model.fit(\n",
    "    X[:-N // 2], Y[:-N // 2],\n",
    "    epochs=80,\n",
    "    validation_data=(X[-N//2:], Y[-N//2:]),\n",
    ")"
   ]
  },
  {
   "cell_type": "code",
   "execution_count": 26,
   "metadata": {
    "colab": {
     "base_uri": "https://localhost:8080/",
     "height": 286
    },
    "colab_type": "code",
    "id": "rOl6dnEKj5ib",
    "outputId": "a237a4ad-6404-4ab7-d721-31e687c81e92"
   },
   "outputs": [
    {
     "data": {
      "text/plain": [
       "<matplotlib.legend.Legend at 0x14695eaf0>"
      ]
     },
     "execution_count": 26,
     "metadata": {},
     "output_type": "execute_result"
    },
    {
     "data": {
      "image/png": "[encoded data removed]",
      "text/plain": [
       "<Figure size 432x288 with 1 Axes>"
      ]
     },
     "metadata": {
      "needs_background": "light"
     },
     "output_type": "display_data"
    }
   ],
   "source": [
    "# Loss of model over time\n",
    "plt.plot(r.history['loss'], label=\"Loss\")\n",
    "plt.plot(r.history['val_loss'], label=\"Testing Loss\")\n",
    "plt.legend()"
   ]
  },
  {
   "cell_type": "code",
   "execution_count": 27,
   "metadata": {
    "colab": {
     "base_uri": "https://localhost:8080/",
     "height": 299
    },
    "colab_type": "code",
    "id": "G5Zo84p4kLg7",
    "outputId": "17d5ed43-6182-4006-9ec4-1ce04dba30ef"
   },
   "outputs": [
    {
     "name": "stdout",
     "output_type": "stream",
     "text": [
      "(2536, 1)\n"
     ]
    },
    {
     "data": {
      "text/plain": [
       "<matplotlib.legend.Legend at 0x146006340>"
      ]
     },
     "execution_count": 27,
     "metadata": {},
     "output_type": "execute_result"
    },
    {
     "data": {
      "image/png": "[encoded data removed]",
      "text/plain": [
       "<Figure size 432x288 with 1 Axes>"
      ]
     },
     "metadata": {
      "needs_background": "light"
     },
     "output_type": "display_data"
    }
   ],
   "source": [
    "# Forecast/Predictions\n",
    "\n",
    "outputs = model.predict(X)\n",
    "print(outputs.shape)\n",
    "predictions = outputs[:,0]\n",
    "\n",
    "plt.plot(Y, label=\"Target\")\n",
    "plt.plot(predictions, label=\"Predictions\")\n",
    "plt.legend()"
   ]
  },
  {
   "cell_type": "code",
   "execution_count": null,
   "metadata": {},
   "outputs": [],
   "source": []
  }
 ],
 "metadata": {
  "colab": {
   "name": "stock_predictions.ipynb",
   "provenance": []
  },
  "kernelspec": {
   "display_name": "Python 3",
   "language": "python",
   "name": "python3"
  },
  "language_info": {
   "codemirror_mode": {
    "name": "ipython",
    "version": 3
   },
   "file_extension": ".py",
   "mimetype": "text/x-python",
   "name": "python",
   "nbconvert_exporter": "python",
   "pygments_lexer": "ipython3",
   "version": "3.8.5"
  }
 },
 "nbformat": 4,
 "nbformat_minor": 4
}
