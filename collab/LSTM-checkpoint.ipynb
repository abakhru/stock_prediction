{
 "cells": [
  {
   "cell_type": "code",
   "execution_count": 2,
   "metadata": {},
   "outputs": [],
   "source": [
    "import pandas as pd\n",
    "import numpy as np\n",
    "import seaborn as sns\n",
    "import keras\n",
    "from pathlib import Path\n",
    "import pandas_datareader\n",
    "import matplotlib.pyplot as plt\n",
    "from keras.layers import Dense,Dropout,LSTM\n",
    "from keras.models import Sequential\n",
    "import warnings\n",
    "from datetime import datetime\n",
    "warnings.filterwarnings('ignore')\n",
    "import graphviz\n",
    "plt.style.use('fivethirtyeight')"
   ]
  },
  {
   "cell_type": "code",
   "execution_count": 3,
   "metadata": {},
   "outputs": [
    {
     "data": {
      "text/html": [
       "<div>\n",
       "<style scoped>\n",
       "    .dataframe tbody tr th:only-of-type {\n",
       "        vertical-align: middle;\n",
       "    }\n",
       "\n",
       "    .dataframe tbody tr th {\n",
       "        vertical-align: top;\n",
       "    }\n",
       "\n",
       "    .dataframe thead th {\n",
       "        text-align: right;\n",
       "    }\n",
       "</style>\n",
       "<table border=\"1\" class=\"dataframe\">\n",
       "  <thead>\n",
       "    <tr style=\"text-align: right;\">\n",
       "      <th></th>\n",
       "      <th>High</th>\n",
       "      <th>Low</th>\n",
       "      <th>Open</th>\n",
       "      <th>Close</th>\n",
       "      <th>Volume</th>\n",
       "      <th>Adj Close</th>\n",
       "    </tr>\n",
       "    <tr>\n",
       "      <th>Date</th>\n",
       "      <th></th>\n",
       "      <th></th>\n",
       "      <th></th>\n",
       "      <th></th>\n",
       "      <th></th>\n",
       "      <th></th>\n",
       "    </tr>\n",
       "  </thead>\n",
       "  <tbody>\n",
       "    <tr>\n",
       "      <th>2020-07-20</th>\n",
       "      <td>55.520000</td>\n",
       "      <td>54.689999</td>\n",
       "      <td>54.880001</td>\n",
       "      <td>55.400002</td>\n",
       "      <td>11469300.0</td>\n",
       "      <td>55.400002</td>\n",
       "    </tr>\n",
       "    <tr>\n",
       "      <th>2020-07-21</th>\n",
       "      <td>56.340000</td>\n",
       "      <td>55.580002</td>\n",
       "      <td>55.799999</td>\n",
       "      <td>55.910000</td>\n",
       "      <td>11875100.0</td>\n",
       "      <td>55.910000</td>\n",
       "    </tr>\n",
       "    <tr>\n",
       "      <th>2020-07-22</th>\n",
       "      <td>56.180000</td>\n",
       "      <td>55.700001</td>\n",
       "      <td>55.700001</td>\n",
       "      <td>56.009998</td>\n",
       "      <td>13842400.0</td>\n",
       "      <td>56.009998</td>\n",
       "    </tr>\n",
       "    <tr>\n",
       "      <th>2020-07-23</th>\n",
       "      <td>56.360001</td>\n",
       "      <td>55.599998</td>\n",
       "      <td>56.000000</td>\n",
       "      <td>55.759998</td>\n",
       "      <td>12576000.0</td>\n",
       "      <td>55.759998</td>\n",
       "    </tr>\n",
       "    <tr>\n",
       "      <th>2020-07-24</th>\n",
       "      <td>56.040001</td>\n",
       "      <td>55.259998</td>\n",
       "      <td>55.470001</td>\n",
       "      <td>55.650002</td>\n",
       "      <td>8939200.0</td>\n",
       "      <td>55.650002</td>\n",
       "    </tr>\n",
       "  </tbody>\n",
       "</table>\n",
       "</div>"
      ],
      "text/plain": [
       "                 High        Low       Open      Close      Volume  Adj Close\n",
       "Date                                                                         \n",
       "2020-07-20  55.520000  54.689999  54.880001  55.400002  11469300.0  55.400002\n",
       "2020-07-21  56.340000  55.580002  55.799999  55.910000  11875100.0  55.910000\n",
       "2020-07-22  56.180000  55.700001  55.700001  56.009998  13842400.0  56.009998\n",
       "2020-07-23  56.360001  55.599998  56.000000  55.759998  12576000.0  55.759998\n",
       "2020-07-24  56.040001  55.259998  55.470001  55.650002   8939200.0  55.650002"
      ]
     },
     "execution_count": 3,
     "metadata": {},
     "output_type": "execute_result"
    }
   ],
   "source": [
    "TODAY_DATE = datetime.now().strftime(\"%Y-%m-%d\")\n",
    "data_dir = Path.cwd().parent.resolve().joinpath('data')\n",
    "stock_symbol = 'ORCL'\n",
    "\n",
    "csv_path = data_dir.joinpath(f'{stock_symbol.lower()}_quote_{TODAY_DATE}.csv')\n",
    "if csv_path.exists():\n",
    "    df = pd.read_csv(csv_path)\n",
    "else:\n",
    "    df = pandas_datareader.DataReader(name=stock_symbol,\n",
    "                                      data_source='yahoo',\n",
    "                                      start='2000-01-01', \n",
    "                                      end=TODAY_DATE)\n",
    "    df.to_csv(csv_path)\n",
    "df.head()\n",
    "# date_time = pd.to_datetime(df['Date'])\n",
    "# print(date_time)\n",
    "# df.set_index(date_time)\n",
    "df.tail()"
   ]
  },
  {
   "cell_type": "code",
   "execution_count": 4,
   "metadata": {},
   "outputs": [
    {
     "data": {
      "text/plain": [
       "(5173, 6)"
      ]
     },
     "execution_count": 4,
     "metadata": {},
     "output_type": "execute_result"
    }
   ],
   "source": [
    "df.shape"
   ]
  },
  {
   "cell_type": "code",
   "execution_count": 5,
   "metadata": {},
   "outputs": [
    {
     "data": {
      "text/plain": [
       "High         0\n",
       "Low          0\n",
       "Open         0\n",
       "Close        0\n",
       "Volume       0\n",
       "Adj Close    0\n",
       "dtype: int64"
      ]
     },
     "execution_count": 5,
     "metadata": {},
     "output_type": "execute_result"
    }
   ],
   "source": [
    "df.isnull().sum()"
   ]
  },
  {
   "cell_type": "code",
   "execution_count": 6,
   "metadata": {},
   "outputs": [],
   "source": [
    "df.replace(np.NaN , df.mean(),inplace=True)"
   ]
  },
  {
   "cell_type": "code",
   "execution_count": 7,
   "metadata": {},
   "outputs": [
    {
     "data": {
      "text/plain": [
       "High         0\n",
       "Low          0\n",
       "Open         0\n",
       "Close        0\n",
       "Volume       0\n",
       "Adj Close    0\n",
       "dtype: int64"
      ]
     },
     "execution_count": 7,
     "metadata": {},
     "output_type": "execute_result"
    }
   ],
   "source": [
    "df.isnull().sum()"
   ]
  },
  {
   "cell_type": "code",
   "execution_count": 8,
   "metadata": {},
   "outputs": [
    {
     "data": {
      "text/html": [
       "<div>\n",
       "<style scoped>\n",
       "    .dataframe tbody tr th:only-of-type {\n",
       "        vertical-align: middle;\n",
       "    }\n",
       "\n",
       "    .dataframe tbody tr th {\n",
       "        vertical-align: top;\n",
       "    }\n",
       "\n",
       "    .dataframe thead th {\n",
       "        text-align: right;\n",
       "    }\n",
       "</style>\n",
       "<table border=\"1\" class=\"dataframe\">\n",
       "  <thead>\n",
       "    <tr style=\"text-align: right;\">\n",
       "      <th></th>\n",
       "      <th>High</th>\n",
       "      <th>Low</th>\n",
       "      <th>Open</th>\n",
       "      <th>Close</th>\n",
       "      <th>Volume</th>\n",
       "      <th>Adj Close</th>\n",
       "    </tr>\n",
       "  </thead>\n",
       "  <tbody>\n",
       "    <tr>\n",
       "      <th>count</th>\n",
       "      <td>5173.000000</td>\n",
       "      <td>5173.000000</td>\n",
       "      <td>5173.000000</td>\n",
       "      <td>5173.000000</td>\n",
       "      <td>5.173000e+03</td>\n",
       "      <td>5173.000000</td>\n",
       "    </tr>\n",
       "    <tr>\n",
       "      <th>mean</th>\n",
       "      <td>29.276448</td>\n",
       "      <td>28.578144</td>\n",
       "      <td>28.919891</td>\n",
       "      <td>28.926118</td>\n",
       "      <td>3.117175e+07</td>\n",
       "      <td>26.361326</td>\n",
       "    </tr>\n",
       "    <tr>\n",
       "      <th>std</th>\n",
       "      <td>13.891823</td>\n",
       "      <td>13.737686</td>\n",
       "      <td>13.807309</td>\n",
       "      <td>13.815746</td>\n",
       "      <td>2.044787e+07</td>\n",
       "      <td>13.726579</td>\n",
       "    </tr>\n",
       "    <tr>\n",
       "      <th>min</th>\n",
       "      <td>7.960000</td>\n",
       "      <td>7.250000</td>\n",
       "      <td>7.390000</td>\n",
       "      <td>7.320000</td>\n",
       "      <td>3.331700e+06</td>\n",
       "      <td>6.316686</td>\n",
       "    </tr>\n",
       "    <tr>\n",
       "      <th>25%</th>\n",
       "      <td>16.360001</td>\n",
       "      <td>15.460000</td>\n",
       "      <td>15.930000</td>\n",
       "      <td>15.900000</td>\n",
       "      <td>1.591910e+07</td>\n",
       "      <td>13.720669</td>\n",
       "    </tr>\n",
       "    <tr>\n",
       "      <th>50%</th>\n",
       "      <td>28.875000</td>\n",
       "      <td>27.959999</td>\n",
       "      <td>28.490000</td>\n",
       "      <td>28.420000</td>\n",
       "      <td>2.772410e+07</td>\n",
       "      <td>24.971466</td>\n",
       "    </tr>\n",
       "    <tr>\n",
       "      <th>75%</th>\n",
       "      <td>40.590000</td>\n",
       "      <td>39.820000</td>\n",
       "      <td>40.187500</td>\n",
       "      <td>40.189999</td>\n",
       "      <td>4.070660e+07</td>\n",
       "      <td>36.808960</td>\n",
       "    </tr>\n",
       "    <tr>\n",
       "      <th>max</th>\n",
       "      <td>60.500000</td>\n",
       "      <td>59.750000</td>\n",
       "      <td>60.180000</td>\n",
       "      <td>60.150002</td>\n",
       "      <td>2.240888e+08</td>\n",
       "      <td>58.847672</td>\n",
       "    </tr>\n",
       "  </tbody>\n",
       "</table>\n",
       "</div>"
      ],
      "text/plain": [
       "              High          Low         Open        Close        Volume  \\\n",
       "count  5173.000000  5173.000000  5173.000000  5173.000000  5.173000e+03   \n",
       "mean     29.276448    28.578144    28.919891    28.926118  3.117175e+07   \n",
       "std      13.891823    13.737686    13.807309    13.815746  2.044787e+07   \n",
       "min       7.960000     7.250000     7.390000     7.320000  3.331700e+06   \n",
       "25%      16.360001    15.460000    15.930000    15.900000  1.591910e+07   \n",
       "50%      28.875000    27.959999    28.490000    28.420000  2.772410e+07   \n",
       "75%      40.590000    39.820000    40.187500    40.189999  4.070660e+07   \n",
       "max      60.500000    59.750000    60.180000    60.150002  2.240888e+08   \n",
       "\n",
       "         Adj Close  \n",
       "count  5173.000000  \n",
       "mean     26.361326  \n",
       "std      13.726579  \n",
       "min       6.316686  \n",
       "25%      13.720669  \n",
       "50%      24.971466  \n",
       "75%      36.808960  \n",
       "max      58.847672  "
      ]
     },
     "execution_count": 8,
     "metadata": {},
     "output_type": "execute_result"
    }
   ],
   "source": [
    "df.describe()"
   ]
  },
  {
   "cell_type": "code",
   "execution_count": 9,
   "metadata": {},
   "outputs": [
    {
     "data": {
      "text/plain": [
       "[<matplotlib.lines.Line2D at 0x14cbaf880>]"
      ]
     },
     "execution_count": 9,
     "metadata": {},
     "output_type": "execute_result"
    },
    {
     "data": {
      "image/png": "[encoded data removed]",
      "text/plain": [
       "<Figure size 1800x720 with 1 Axes>"
      ]
     },
     "metadata": {},
     "output_type": "display_data"
    }
   ],
   "source": [
    "plt.subplots(figsize = (25,10))\n",
    "plt.ylabel('High')\n",
    "plt.title('Orginal Plot')\n",
    "plt.plot('Close', data=df)"
   ]
  },
  {
   "cell_type": "code",
   "execution_count": 10,
   "metadata": {},
   "outputs": [
    {
     "name": "stdout",
     "output_type": "stream",
     "text": [
      "                Close\n",
      "Date                 \n",
      "2000-01-03  29.531250\n",
      "2000-01-04  26.921875\n",
      "2000-01-05  25.500000\n",
      "2000-01-06  24.000000\n",
      "2000-01-07  25.843750\n",
      "\n",
      "\n",
      "4139\n"
     ]
    }
   ],
   "source": [
    "data = df.filter(['Close'])\n",
    "print(data.head())\n",
    "print(\"\\n\")\n",
    "dataset = data.values\n",
    "training_data_len = int(np.ceil(len(dataset) * .8))\n",
    "print(training_data_len)"
   ]
  },
  {
   "cell_type": "code",
   "execution_count": 11,
   "metadata": {},
   "outputs": [
    {
     "data": {
      "text/plain": [
       "array([[0.42042872],\n",
       "       [0.3710368 ],\n",
       "       [0.34412265],\n",
       "       ...,\n",
       "       [0.92163538],\n",
       "       [0.91690322],\n",
       "       [0.91482113]])"
      ]
     },
     "execution_count": 11,
     "metadata": {},
     "output_type": "execute_result"
    }
   ],
   "source": [
    "from sklearn.preprocessing import MinMaxScaler\n",
    "scaler = MinMaxScaler(feature_range=(0,1))\n",
    "scaled_data = scaler.fit_transform(dataset)\n",
    "scaled_data"
   ]
  },
  {
   "cell_type": "code",
   "execution_count": 12,
   "metadata": {},
   "outputs": [
    {
     "name": "stdout",
     "output_type": "stream",
     "text": [
      "[array([0.42042872, 0.3710368 , 0.34412265, 0.31572969, 0.35062937,\n",
      "       0.40918984, 0.3932188 , 0.36127672, 0.35861488, 0.36689616,\n",
      "       0.38789512, 0.4020916 , 0.42220328, 0.42634392, 0.37429016,\n",
      "       0.39558488, 0.38257144, 0.3518124 , 0.30981449, 0.33421469,\n",
      "       0.3725156 , 0.3754732 , 0.39795096, 0.40859832, 0.42871   ,\n",
      "       0.42516088, 0.42871   , 0.45118776, 0.42634392, 0.45000472,\n",
      "       0.44231496, 0.44113192, 0.44468104, 0.41569656, 0.4227948 ,\n",
      "       0.458286  , 0.44763864, 0.52985991, 0.51093127, 0.56416807,\n",
      "       0.53814119, 0.50974823, 0.57126631, 0.57836455, 0.57067479,\n",
      "       0.6481639 , 0.65644518, 0.63396742, 0.60675751, 0.59019495,\n",
      "       0.60557447, 0.63692502, 0.61681334, 0.60084231, 0.62509462,\n",
      "       0.6570367 , 0.6836551 , 0.68483814, 0.6984431 , 0.6806975 ])]\n",
      "[0.6422487026044704]\n",
      "[array([0.42042872, 0.3710368 , 0.34412265, 0.31572969, 0.35062937,\n",
      "       0.40918984, 0.3932188 , 0.36127672, 0.35861488, 0.36689616,\n",
      "       0.38789512, 0.4020916 , 0.42220328, 0.42634392, 0.37429016,\n",
      "       0.39558488, 0.38257144, 0.3518124 , 0.30981449, 0.33421469,\n",
      "       0.3725156 , 0.3754732 , 0.39795096, 0.40859832, 0.42871   ,\n",
      "       0.42516088, 0.42871   , 0.45118776, 0.42634392, 0.45000472,\n",
      "       0.44231496, 0.44113192, 0.44468104, 0.41569656, 0.4227948 ,\n",
      "       0.458286  , 0.44763864, 0.52985991, 0.51093127, 0.56416807,\n",
      "       0.53814119, 0.50974823, 0.57126631, 0.57836455, 0.57067479,\n",
      "       0.6481639 , 0.65644518, 0.63396742, 0.60675751, 0.59019495,\n",
      "       0.60557447, 0.63692502, 0.61681334, 0.60084231, 0.62509462,\n",
      "       0.6570367 , 0.6836551 , 0.68483814, 0.6984431 , 0.6806975 ]), array([0.3710368 , 0.34412265, 0.31572969, 0.35062937, 0.40918984,\n",
      "       0.3932188 , 0.36127672, 0.35861488, 0.36689616, 0.38789512,\n",
      "       0.4020916 , 0.42220328, 0.42634392, 0.37429016, 0.39558488,\n",
      "       0.38257144, 0.3518124 , 0.30981449, 0.33421469, 0.3725156 ,\n",
      "       0.3754732 , 0.39795096, 0.40859832, 0.42871   , 0.42516088,\n",
      "       0.42871   , 0.45118776, 0.42634392, 0.45000472, 0.44231496,\n",
      "       0.44113192, 0.44468104, 0.41569656, 0.4227948 , 0.458286  ,\n",
      "       0.44763864, 0.52985991, 0.51093127, 0.56416807, 0.53814119,\n",
      "       0.50974823, 0.57126631, 0.57836455, 0.57067479, 0.6481639 ,\n",
      "       0.65644518, 0.63396742, 0.60675751, 0.59019495, 0.60557447,\n",
      "       0.63692502, 0.61681334, 0.60084231, 0.62509462, 0.6570367 ,\n",
      "       0.6836551 , 0.68483814, 0.6984431 , 0.6806975 , 0.6422487 ])]\n",
      "[0.6422487026044704, 0.603799905558626]\n"
     ]
    }
   ],
   "source": [
    "train_x = []\n",
    "train_y = []\n",
    "train_data = scaled_data[0:int(training_data_len),:]\n",
    "\n",
    "for i in range(60,len(train_data)):\n",
    "    train_x.append(train_data[i-60:i,0])\n",
    "    train_y.append(train_data[i,0])\n",
    "    if i<= 61:\n",
    "        print(train_x)\n",
    "        print(train_y)"
   ]
  },
  {
   "cell_type": "code",
   "execution_count": 13,
   "metadata": {},
   "outputs": [],
   "source": [
    "train_x,train_y = np.array(train_x) , np.array(train_y)"
   ]
  },
  {
   "cell_type": "code",
   "execution_count": 14,
   "metadata": {},
   "outputs": [
    {
     "data": {
      "text/plain": [
       "(4079, 60)"
      ]
     },
     "execution_count": 14,
     "metadata": {},
     "output_type": "execute_result"
    }
   ],
   "source": [
    "train_x.shape"
   ]
  },
  {
   "cell_type": "code",
   "execution_count": 15,
   "metadata": {},
   "outputs": [
    {
     "data": {
      "text/plain": [
       "(4079, 60, 1)"
      ]
     },
     "execution_count": 15,
     "metadata": {},
     "output_type": "execute_result"
    }
   ],
   "source": [
    "train_x = np.reshape(train_x,(train_x.shape[0], train_x.shape[1], 1))\n",
    "train_x.shape"
   ]
  },
  {
   "cell_type": "code",
   "execution_count": 16,
   "metadata": {},
   "outputs": [],
   "source": [
    "model = Sequential()\n",
    "model.add(LSTM(units = 50 , return_sequences=True , input_shape = (train_x.shape[1],1)))\n",
    "model.add(LSTM(units = 50 , return_sequences = True))\n",
    "model.add(Dropout(0.2))\n",
    "model.add(LSTM(units= 50 , return_sequences = False))\n",
    "model.add(Dense(25))\n",
    "model.add(Dense(1))"
   ]
  },
  {
   "cell_type": "code",
   "execution_count": 17,
   "metadata": {},
   "outputs": [
    {
     "data": {
      "image/png": "[encoded data removed]",
      "text/plain": [
       "<IPython.core.display.Image object>"
      ]
     },
     "execution_count": 17,
     "metadata": {},
     "output_type": "execute_result"
    }
   ],
   "source": [
    "keras.utils.plot_model(model = model , to_file = 'AxisBankLSTM.png')"
   ]
  },
  {
   "cell_type": "code",
   "execution_count": 18,
   "metadata": {},
   "outputs": [],
   "source": [
    "model.compile(optimizer='adam' , loss='mean_squared_error')"
   ]
  },
  {
   "cell_type": "code",
   "execution_count": 19,
   "metadata": {},
   "outputs": [
    {
     "name": "stdout",
     "output_type": "stream",
     "text": [
      "Epoch 1/5\n",
      "128/128 [==============================] - 12s 91ms/step - loss: 0.0051\n",
      "Epoch 2/5\n",
      "128/128 [==============================] - 11s 86ms/step - loss: 8.2325e-04\n",
      "Epoch 3/5\n",
      "128/128 [==============================] - 12s 93ms/step - loss: 8.2406e-04\n",
      "Epoch 4/5\n",
      "128/128 [==============================] - 12s 91ms/step - loss: 7.3751e-04\n",
      "Epoch 5/5\n",
      "128/128 [==============================] - 11s 85ms/step - loss: 6.0938e-04\n"
     ]
    },
    {
     "data": {
      "text/plain": [
       "<tensorflow.python.keras.callbacks.History at 0x14cff3c70>"
      ]
     },
     "execution_count": 19,
     "metadata": {},
     "output_type": "execute_result"
    }
   ],
   "source": [
    "model.fit(train_x,train_y,batch_size=32 , epochs=5)"
   ]
  },
  {
   "cell_type": "code",
   "execution_count": 20,
   "metadata": {},
   "outputs": [
    {
     "name": "stdout",
     "output_type": "stream",
     "text": [
      "4139\n"
     ]
    }
   ],
   "source": [
    "test_data = scaled_data[training_data_len - 60:,:]\n",
    "print(training_data_len)\n",
    "test_x = []\n",
    "test_y = dataset[training_data_len: , :]\n",
    "for i in range(60,len(test_data)):\n",
    "    test_x.append(test_data[i-60:i,0])"
   ]
  },
  {
   "cell_type": "code",
   "execution_count": 21,
   "metadata": {},
   "outputs": [],
   "source": [
    "test_x = np.array(test_x)"
   ]
  },
  {
   "cell_type": "code",
   "execution_count": 22,
   "metadata": {},
   "outputs": [],
   "source": [
    "test_x = np.reshape(test_x,(test_x.shape[0] , test_x.shape[1] , 1))"
   ]
  },
  {
   "cell_type": "code",
   "execution_count": 23,
   "metadata": {},
   "outputs": [
    {
     "data": {
      "text/plain": [
       "(1034, 60, 1)"
      ]
     },
     "execution_count": 23,
     "metadata": {},
     "output_type": "execute_result"
    }
   ],
   "source": [
    "test_x.shape"
   ]
  },
  {
   "cell_type": "code",
   "execution_count": 24,
   "metadata": {},
   "outputs": [],
   "source": [
    "prediction = model.predict(test_x)\n",
    "prediction = scaler.inverse_transform(prediction)"
   ]
  },
  {
   "cell_type": "code",
   "execution_count": 25,
   "metadata": {},
   "outputs": [
    {
     "data": {
      "text/plain": [
       "1.9361290629195627"
      ]
     },
     "execution_count": 25,
     "metadata": {},
     "output_type": "execute_result"
    }
   ],
   "source": [
    "# Get the root mean squared error (RMSE)\n",
    "rmse = np.sqrt(np.mean(((prediction - test_y) ** 2)))\n",
    "rmse"
   ]
  },
  {
   "cell_type": "code",
   "execution_count": 27,
   "metadata": {},
   "outputs": [
    {
     "ename": "KeyError",
     "evalue": "'Open'",
     "output_type": "error",
     "traceback": [
      "\u001b[0;31m---------------------------------------------------------------------------\u001b[0m",
      "\u001b[0;31mKeyError\u001b[0m                                  Traceback (most recent call last)",
      "\u001b[0;32m~/src/stock_prediction/env/lib/python3.8/site-packages/pandas/core/indexes/base.py\u001b[0m in \u001b[0;36mget_loc\u001b[0;34m(self, key, method, tolerance)\u001b[0m\n\u001b[1;32m   2645\u001b[0m             \u001b[0;32mtry\u001b[0m\u001b[0;34m:\u001b[0m\u001b[0;34m\u001b[0m\u001b[0;34m\u001b[0m\u001b[0m\n\u001b[0;32m-> 2646\u001b[0;31m                 \u001b[0;32mreturn\u001b[0m \u001b[0mself\u001b[0m\u001b[0;34m.\u001b[0m\u001b[0m_engine\u001b[0m\u001b[0;34m.\u001b[0m\u001b[0mget_loc\u001b[0m\u001b[0;34m(\u001b[0m\u001b[0mkey\u001b[0m\u001b[0;34m)\u001b[0m\u001b[0;34m\u001b[0m\u001b[0;34m\u001b[0m\u001b[0m\n\u001b[0m\u001b[1;32m   2647\u001b[0m             \u001b[0;32mexcept\u001b[0m \u001b[0mKeyError\u001b[0m\u001b[0;34m:\u001b[0m\u001b[0;34m\u001b[0m\u001b[0;34m\u001b[0m\u001b[0m\n",
      "\u001b[0;32mpandas/_libs/index.pyx\u001b[0m in \u001b[0;36mpandas._libs.index.IndexEngine.get_loc\u001b[0;34m()\u001b[0m\n",
      "\u001b[0;32mpandas/_libs/index.pyx\u001b[0m in \u001b[0;36mpandas._libs.index.IndexEngine.get_loc\u001b[0;34m()\u001b[0m\n",
      "\u001b[0;32mpandas/_libs/hashtable_class_helper.pxi\u001b[0m in \u001b[0;36mpandas._libs.hashtable.PyObjectHashTable.get_item\u001b[0;34m()\u001b[0m\n",
      "\u001b[0;32mpandas/_libs/hashtable_class_helper.pxi\u001b[0m in \u001b[0;36mpandas._libs.hashtable.PyObjectHashTable.get_item\u001b[0;34m()\u001b[0m\n",
      "\u001b[0;31mKeyError\u001b[0m: 'Open'",
      "\nDuring handling of the above exception, another exception occurred:\n",
      "\u001b[0;31mKeyError\u001b[0m                                  Traceback (most recent call last)",
      "\u001b[0;32m<ipython-input-27-31da975d4626>\u001b[0m in \u001b[0;36m<module>\u001b[0;34m\u001b[0m\n\u001b[1;32m      8\u001b[0m \u001b[0mplt\u001b[0m\u001b[0;34m.\u001b[0m\u001b[0mxlabel\u001b[0m\u001b[0;34m(\u001b[0m\u001b[0;34m'Date'\u001b[0m\u001b[0;34m,\u001b[0m \u001b[0mfontsize\u001b[0m\u001b[0;34m=\u001b[0m\u001b[0;36m18\u001b[0m\u001b[0;34m)\u001b[0m\u001b[0;34m\u001b[0m\u001b[0;34m\u001b[0m\u001b[0m\n\u001b[1;32m      9\u001b[0m \u001b[0mplt\u001b[0m\u001b[0;34m.\u001b[0m\u001b[0mylabel\u001b[0m\u001b[0;34m(\u001b[0m\u001b[0;34m'Open Price INR'\u001b[0m\u001b[0;34m,\u001b[0m \u001b[0mfontsize\u001b[0m\u001b[0;34m=\u001b[0m\u001b[0;36m18\u001b[0m\u001b[0;34m)\u001b[0m\u001b[0;34m\u001b[0m\u001b[0;34m\u001b[0m\u001b[0m\n\u001b[0;32m---> 10\u001b[0;31m \u001b[0mplt\u001b[0m\u001b[0;34m.\u001b[0m\u001b[0mplot\u001b[0m\u001b[0;34m(\u001b[0m\u001b[0mtrain\u001b[0m\u001b[0;34m[\u001b[0m\u001b[0;34m'Open'\u001b[0m\u001b[0;34m]\u001b[0m\u001b[0;34m)\u001b[0m\u001b[0;34m\u001b[0m\u001b[0;34m\u001b[0m\u001b[0m\n\u001b[0m\u001b[1;32m     11\u001b[0m \u001b[0mplt\u001b[0m\u001b[0;34m.\u001b[0m\u001b[0mplot\u001b[0m\u001b[0;34m(\u001b[0m\u001b[0mactual\u001b[0m\u001b[0;34m[\u001b[0m\u001b[0;34m[\u001b[0m\u001b[0;34m'Open'\u001b[0m\u001b[0;34m,\u001b[0m \u001b[0;34m'Predictions'\u001b[0m\u001b[0;34m]\u001b[0m\u001b[0;34m]\u001b[0m\u001b[0;34m)\u001b[0m\u001b[0;34m\u001b[0m\u001b[0;34m\u001b[0m\u001b[0m\n\u001b[1;32m     12\u001b[0m \u001b[0;31m# plt.plot_date(x=df['Date'], y=df['Open'])\u001b[0m\u001b[0;34m\u001b[0m\u001b[0;34m\u001b[0m\u001b[0;34m\u001b[0m\u001b[0m\n",
      "\u001b[0;32m~/src/stock_prediction/env/lib/python3.8/site-packages/pandas/core/frame.py\u001b[0m in \u001b[0;36m__getitem__\u001b[0;34m(self, key)\u001b[0m\n\u001b[1;32m   2798\u001b[0m             \u001b[0;32mif\u001b[0m \u001b[0mself\u001b[0m\u001b[0;34m.\u001b[0m\u001b[0mcolumns\u001b[0m\u001b[0;34m.\u001b[0m\u001b[0mnlevels\u001b[0m \u001b[0;34m>\u001b[0m \u001b[0;36m1\u001b[0m\u001b[0;34m:\u001b[0m\u001b[0;34m\u001b[0m\u001b[0;34m\u001b[0m\u001b[0m\n\u001b[1;32m   2799\u001b[0m                 \u001b[0;32mreturn\u001b[0m \u001b[0mself\u001b[0m\u001b[0;34m.\u001b[0m\u001b[0m_getitem_multilevel\u001b[0m\u001b[0;34m(\u001b[0m\u001b[0mkey\u001b[0m\u001b[0;34m)\u001b[0m\u001b[0;34m\u001b[0m\u001b[0;34m\u001b[0m\u001b[0m\n\u001b[0;32m-> 2800\u001b[0;31m             \u001b[0mindexer\u001b[0m \u001b[0;34m=\u001b[0m \u001b[0mself\u001b[0m\u001b[0;34m.\u001b[0m\u001b[0mcolumns\u001b[0m\u001b[0;34m.\u001b[0m\u001b[0mget_loc\u001b[0m\u001b[0;34m(\u001b[0m\u001b[0mkey\u001b[0m\u001b[0;34m)\u001b[0m\u001b[0;34m\u001b[0m\u001b[0;34m\u001b[0m\u001b[0m\n\u001b[0m\u001b[1;32m   2801\u001b[0m             \u001b[0;32mif\u001b[0m \u001b[0mis_integer\u001b[0m\u001b[0;34m(\u001b[0m\u001b[0mindexer\u001b[0m\u001b[0;34m)\u001b[0m\u001b[0;34m:\u001b[0m\u001b[0;34m\u001b[0m\u001b[0;34m\u001b[0m\u001b[0m\n\u001b[1;32m   2802\u001b[0m                 \u001b[0mindexer\u001b[0m \u001b[0;34m=\u001b[0m \u001b[0;34m[\u001b[0m\u001b[0mindexer\u001b[0m\u001b[0;34m]\u001b[0m\u001b[0;34m\u001b[0m\u001b[0;34m\u001b[0m\u001b[0m\n",
      "\u001b[0;32m~/src/stock_prediction/env/lib/python3.8/site-packages/pandas/core/indexes/base.py\u001b[0m in \u001b[0;36mget_loc\u001b[0;34m(self, key, method, tolerance)\u001b[0m\n\u001b[1;32m   2646\u001b[0m                 \u001b[0;32mreturn\u001b[0m \u001b[0mself\u001b[0m\u001b[0;34m.\u001b[0m\u001b[0m_engine\u001b[0m\u001b[0;34m.\u001b[0m\u001b[0mget_loc\u001b[0m\u001b[0;34m(\u001b[0m\u001b[0mkey\u001b[0m\u001b[0;34m)\u001b[0m\u001b[0;34m\u001b[0m\u001b[0;34m\u001b[0m\u001b[0m\n\u001b[1;32m   2647\u001b[0m             \u001b[0;32mexcept\u001b[0m \u001b[0mKeyError\u001b[0m\u001b[0;34m:\u001b[0m\u001b[0;34m\u001b[0m\u001b[0;34m\u001b[0m\u001b[0m\n\u001b[0;32m-> 2648\u001b[0;31m                 \u001b[0;32mreturn\u001b[0m \u001b[0mself\u001b[0m\u001b[0;34m.\u001b[0m\u001b[0m_engine\u001b[0m\u001b[0;34m.\u001b[0m\u001b[0mget_loc\u001b[0m\u001b[0;34m(\u001b[0m\u001b[0mself\u001b[0m\u001b[0;34m.\u001b[0m\u001b[0m_maybe_cast_indexer\u001b[0m\u001b[0;34m(\u001b[0m\u001b[0mkey\u001b[0m\u001b[0;34m)\u001b[0m\u001b[0;34m)\u001b[0m\u001b[0;34m\u001b[0m\u001b[0;34m\u001b[0m\u001b[0m\n\u001b[0m\u001b[1;32m   2649\u001b[0m         \u001b[0mindexer\u001b[0m \u001b[0;34m=\u001b[0m \u001b[0mself\u001b[0m\u001b[0;34m.\u001b[0m\u001b[0mget_indexer\u001b[0m\u001b[0;34m(\u001b[0m\u001b[0;34m[\u001b[0m\u001b[0mkey\u001b[0m\u001b[0;34m]\u001b[0m\u001b[0;34m,\u001b[0m \u001b[0mmethod\u001b[0m\u001b[0;34m=\u001b[0m\u001b[0mmethod\u001b[0m\u001b[0;34m,\u001b[0m \u001b[0mtolerance\u001b[0m\u001b[0;34m=\u001b[0m\u001b[0mtolerance\u001b[0m\u001b[0;34m)\u001b[0m\u001b[0;34m\u001b[0m\u001b[0;34m\u001b[0m\u001b[0m\n\u001b[1;32m   2650\u001b[0m         \u001b[0;32mif\u001b[0m \u001b[0mindexer\u001b[0m\u001b[0;34m.\u001b[0m\u001b[0mndim\u001b[0m \u001b[0;34m>\u001b[0m \u001b[0;36m1\u001b[0m \u001b[0;32mor\u001b[0m \u001b[0mindexer\u001b[0m\u001b[0;34m.\u001b[0m\u001b[0msize\u001b[0m \u001b[0;34m>\u001b[0m \u001b[0;36m1\u001b[0m\u001b[0;34m:\u001b[0m\u001b[0;34m\u001b[0m\u001b[0;34m\u001b[0m\u001b[0m\n",
      "\u001b[0;32mpandas/_libs/index.pyx\u001b[0m in \u001b[0;36mpandas._libs.index.IndexEngine.get_loc\u001b[0;34m()\u001b[0m\n",
      "\u001b[0;32mpandas/_libs/index.pyx\u001b[0m in \u001b[0;36mpandas._libs.index.IndexEngine.get_loc\u001b[0;34m()\u001b[0m\n",
      "\u001b[0;32mpandas/_libs/hashtable_class_helper.pxi\u001b[0m in \u001b[0;36mpandas._libs.hashtable.PyObjectHashTable.get_item\u001b[0;34m()\u001b[0m\n",
      "\u001b[0;32mpandas/_libs/hashtable_class_helper.pxi\u001b[0m in \u001b[0;36mpandas._libs.hashtable.PyObjectHashTable.get_item\u001b[0;34m()\u001b[0m\n",
      "\u001b[0;31mKeyError\u001b[0m: 'Open'"
     ]
    },
    {
     "data": {
      "image/png": "[encoded data removed]",
      "text/plain": [
       "<Figure size 1152x576 with 1 Axes>"
      ]
     },
     "metadata": {},
     "output_type": "display_data"
    }
   ],
   "source": [
    "#Plot/Create the data for the graph\n",
    "train = data[:training_data_len]\n",
    "actual = data[training_data_len:]\n",
    "actual['Predictions'] = prediction\n",
    "#Visualize the data\n",
    "plt.figure(figsize=(16,8))\n",
    "plt.title('Model')\n",
    "plt.xlabel('Date', fontsize=18)\n",
    "plt.ylabel('Open Price INR', fontsize=18)\n",
    "plt.plot(train['Open'])\n",
    "plt.plot(actual[['Open', 'Predictions']])\n",
    "# plt.plot_date(x=df['Date'], y=df['Open'])\n",
    "plt.legend(['Train', 'Actual', 'Predictions'], loc='lower right')\n",
    "plt.savefig(csv_path.with_suffix('.png'))\n",
    "plt.show()"
   ]
  },
  {
   "cell_type": "code",
   "execution_count": null,
   "metadata": {},
   "outputs": [],
   "source": []
  },
  {
   "cell_type": "code",
   "execution_count": null,
   "metadata": {},
   "outputs": [],
   "source": []
  }
 ],
 "metadata": {
  "kernelspec": {
   "display_name": "Python 3",
   "language": "python",
   "name": "python3"
  },
  "language_info": {
   "codemirror_mode": {
    "name": "ipython",
    "version": 3
   },
   "file_extension": ".py",
   "mimetype": "text/x-python",
   "name": "python",
   "nbconvert_exporter": "python",
   "pygments_lexer": "ipython3",
   "version": "3.8.5"
  }
 },
 "nbformat": 4,
 "nbformat_minor": 4
}
