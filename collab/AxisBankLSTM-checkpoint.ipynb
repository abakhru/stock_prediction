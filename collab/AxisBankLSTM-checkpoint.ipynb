{
 "cells": [
  {
   "cell_type": "code",
   "execution_count": 1,
   "metadata": {},
   "outputs": [],
   "source": [
    "import pandas as pd\n",
    "import numpy as np\n",
    "import seaborn as sns\n",
    "import keras\n",
    "from pathlib import Path\n",
    "import pandas_datareader\n",
    "import matplotlib.pyplot as plt\n",
    "from keras.layers import Dense,Dropout,LSTM\n",
    "from keras.models import Sequential\n",
    "import warnings\n",
    "from datetime import datetime\n",
    "warnings.filterwarnings('ignore')\n",
    "import graphviz\n",
    "plt.style.use('fivethirtyeight')"
   ]
  },
  {
   "cell_type": "code",
   "execution_count": 81,
   "metadata": {},
   "outputs": [
    {
     "data": {
      "text/html": [
       "<div>\n",
       "<style scoped>\n",
       "    .dataframe tbody tr th:only-of-type {\n",
       "        vertical-align: middle;\n",
       "    }\n",
       "\n",
       "    .dataframe tbody tr th {\n",
       "        vertical-align: top;\n",
       "    }\n",
       "\n",
       "    .dataframe thead th {\n",
       "        text-align: right;\n",
       "    }\n",
       "</style>\n",
       "<table border=\"1\" class=\"dataframe\">\n",
       "  <thead>\n",
       "    <tr style=\"text-align: right;\">\n",
       "      <th></th>\n",
       "      <th>Date</th>\n",
       "      <th>High</th>\n",
       "      <th>Low</th>\n",
       "      <th>Open</th>\n",
       "      <th>Close</th>\n",
       "      <th>Volume</th>\n",
       "      <th>Adj Close</th>\n",
       "    </tr>\n",
       "  </thead>\n",
       "  <tbody>\n",
       "    <tr>\n",
       "      <th>5166</th>\n",
       "      <td>2020-07-16</td>\n",
       "      <td>205.699997</td>\n",
       "      <td>202.309998</td>\n",
       "      <td>205.399994</td>\n",
       "      <td>203.919998</td>\n",
       "      <td>29940700.0</td>\n",
       "      <td>203.919998</td>\n",
       "    </tr>\n",
       "    <tr>\n",
       "      <th>5167</th>\n",
       "      <td>2020-07-17</td>\n",
       "      <td>205.039993</td>\n",
       "      <td>201.389999</td>\n",
       "      <td>204.470001</td>\n",
       "      <td>202.880005</td>\n",
       "      <td>31635300.0</td>\n",
       "      <td>202.880005</td>\n",
       "    </tr>\n",
       "    <tr>\n",
       "      <th>5168</th>\n",
       "      <td>2020-07-20</td>\n",
       "      <td>212.300003</td>\n",
       "      <td>203.009995</td>\n",
       "      <td>205.000000</td>\n",
       "      <td>211.600006</td>\n",
       "      <td>36884800.0</td>\n",
       "      <td>211.600006</td>\n",
       "    </tr>\n",
       "    <tr>\n",
       "      <th>5169</th>\n",
       "      <td>2020-07-21</td>\n",
       "      <td>213.940002</td>\n",
       "      <td>208.029999</td>\n",
       "      <td>213.660004</td>\n",
       "      <td>208.750000</td>\n",
       "      <td>37990400.0</td>\n",
       "      <td>208.750000</td>\n",
       "    </tr>\n",
       "    <tr>\n",
       "      <th>5170</th>\n",
       "      <td>2020-07-22</td>\n",
       "      <td>211.750000</td>\n",
       "      <td>208.389999</td>\n",
       "      <td>209.199997</td>\n",
       "      <td>211.649994</td>\n",
       "      <td>31958566.0</td>\n",
       "      <td>211.649994</td>\n",
       "    </tr>\n",
       "  </tbody>\n",
       "</table>\n",
       "</div>"
      ],
      "text/plain": [
       "            Date        High         Low        Open       Close      Volume  \\\n",
       "5166  2020-07-16  205.699997  202.309998  205.399994  203.919998  29940700.0   \n",
       "5167  2020-07-17  205.039993  201.389999  204.470001  202.880005  31635300.0   \n",
       "5168  2020-07-20  212.300003  203.009995  205.000000  211.600006  36884800.0   \n",
       "5169  2020-07-21  213.940002  208.029999  213.660004  208.750000  37990400.0   \n",
       "5170  2020-07-22  211.750000  208.389999  209.199997  211.649994  31958566.0   \n",
       "\n",
       "       Adj Close  \n",
       "5166  203.919998  \n",
       "5167  202.880005  \n",
       "5168  211.600006  \n",
       "5169  208.750000  \n",
       "5170  211.649994  "
      ]
     },
     "execution_count": 81,
     "metadata": {},
     "output_type": "execute_result"
    }
   ],
   "source": [
    "TODAY_DATE = datetime.now().strftime(\"%Y-%m-%d\")\n",
    "data_dir = Path.cwd().parent.resolve().joinpath('data')\n",
    "stock_symbol = 'MSFT'\n",
    "\n",
    "csv_path = data_dir.joinpath(f'{stock_symbol.lower()}_quote_{TODAY_DATE}.csv')\n",
    "if csv_path.exists():\n",
    "    df = pd.read_csv(csv_path)\n",
    "else:\n",
    "    df = pandas_datareader.DataReader(name=stock_symbol,\n",
    "                                      data_source='yahoo',\n",
    "                                      start='2000-01-01', \n",
    "                                      end=TODAY_DATE)\n",
    "    df.to_csv(csv_path)\n",
    "df.head()\n",
    "# date_time = pd.to_datetime(df['Date'])\n",
    "# print(date_time)\n",
    "# df.set_index(date_time)\n",
    "df.tail()"
   ]
  },
  {
   "cell_type": "code",
   "execution_count": 82,
   "metadata": {},
   "outputs": [
    {
     "data": {
      "text/plain": [
       "(5171, 7)"
      ]
     },
     "execution_count": 82,
     "metadata": {},
     "output_type": "execute_result"
    }
   ],
   "source": [
    "df.shape"
   ]
  },
  {
   "cell_type": "code",
   "execution_count": 83,
   "metadata": {},
   "outputs": [
    {
     "data": {
      "text/plain": [
       "Date         0\n",
       "High         0\n",
       "Low          0\n",
       "Open         0\n",
       "Close        0\n",
       "Volume       0\n",
       "Adj Close    0\n",
       "dtype: int64"
      ]
     },
     "execution_count": 83,
     "metadata": {},
     "output_type": "execute_result"
    }
   ],
   "source": [
    "df.isnull().sum()"
   ]
  },
  {
   "cell_type": "code",
   "execution_count": 84,
   "metadata": {},
   "outputs": [],
   "source": [
    "df.replace(np.NaN , df.mean(),inplace=True)"
   ]
  },
  {
   "cell_type": "code",
   "execution_count": 85,
   "metadata": {},
   "outputs": [
    {
     "data": {
      "text/plain": [
       "Date         0\n",
       "High         0\n",
       "Low          0\n",
       "Open         0\n",
       "Close        0\n",
       "Volume       0\n",
       "Adj Close    0\n",
       "dtype: int64"
      ]
     },
     "execution_count": 85,
     "metadata": {},
     "output_type": "execute_result"
    }
   ],
   "source": [
    "df.isnull().sum()"
   ]
  },
  {
   "cell_type": "code",
   "execution_count": 86,
   "metadata": {},
   "outputs": [
    {
     "data": {
      "text/html": [
       "<div>\n",
       "<style scoped>\n",
       "    .dataframe tbody tr th:only-of-type {\n",
       "        vertical-align: middle;\n",
       "    }\n",
       "\n",
       "    .dataframe tbody tr th {\n",
       "        vertical-align: top;\n",
       "    }\n",
       "\n",
       "    .dataframe thead th {\n",
       "        text-align: right;\n",
       "    }\n",
       "</style>\n",
       "<table border=\"1\" class=\"dataframe\">\n",
       "  <thead>\n",
       "    <tr style=\"text-align: right;\">\n",
       "      <th></th>\n",
       "      <th>High</th>\n",
       "      <th>Low</th>\n",
       "      <th>Open</th>\n",
       "      <th>Close</th>\n",
       "      <th>Volume</th>\n",
       "      <th>Adj Close</th>\n",
       "    </tr>\n",
       "  </thead>\n",
       "  <tbody>\n",
       "    <tr>\n",
       "      <th>count</th>\n",
       "      <td>5171.000000</td>\n",
       "      <td>5171.000000</td>\n",
       "      <td>5171.000000</td>\n",
       "      <td>5171.000000</td>\n",
       "      <td>5.171000e+03</td>\n",
       "      <td>5171.000000</td>\n",
       "    </tr>\n",
       "    <tr>\n",
       "      <th>mean</th>\n",
       "      <td>46.382472</td>\n",
       "      <td>45.416696</td>\n",
       "      <td>45.903566</td>\n",
       "      <td>45.911658</td>\n",
       "      <td>5.499569e+07</td>\n",
       "      <td>39.668430</td>\n",
       "    </tr>\n",
       "    <tr>\n",
       "      <th>std</th>\n",
       "      <td>35.706390</td>\n",
       "      <td>34.966516</td>\n",
       "      <td>35.356403</td>\n",
       "      <td>35.371909</td>\n",
       "      <td>3.138856e+07</td>\n",
       "      <td>37.306224</td>\n",
       "    </tr>\n",
       "    <tr>\n",
       "      <th>min</th>\n",
       "      <td>15.620000</td>\n",
       "      <td>14.870000</td>\n",
       "      <td>15.200000</td>\n",
       "      <td>15.150000</td>\n",
       "      <td>7.425600e+06</td>\n",
       "      <td>11.666746</td>\n",
       "    </tr>\n",
       "    <tr>\n",
       "      <th>25%</th>\n",
       "      <td>26.900000</td>\n",
       "      <td>26.345000</td>\n",
       "      <td>26.622500</td>\n",
       "      <td>26.610001</td>\n",
       "      <td>3.298275e+07</td>\n",
       "      <td>19.102306</td>\n",
       "    </tr>\n",
       "    <tr>\n",
       "      <th>50%</th>\n",
       "      <td>30.250000</td>\n",
       "      <td>29.700001</td>\n",
       "      <td>29.975000</td>\n",
       "      <td>29.980000</td>\n",
       "      <td>5.027970e+07</td>\n",
       "      <td>22.446114</td>\n",
       "    </tr>\n",
       "    <tr>\n",
       "      <th>75%</th>\n",
       "      <td>47.985001</td>\n",
       "      <td>47.035000</td>\n",
       "      <td>47.549999</td>\n",
       "      <td>47.580002</td>\n",
       "      <td>6.850810e+07</td>\n",
       "      <td>42.054111</td>\n",
       "    </tr>\n",
       "    <tr>\n",
       "      <th>max</th>\n",
       "      <td>216.380005</td>\n",
       "      <td>211.470001</td>\n",
       "      <td>216.330002</td>\n",
       "      <td>214.320007</td>\n",
       "      <td>5.910522e+08</td>\n",
       "      <td>214.320007</td>\n",
       "    </tr>\n",
       "  </tbody>\n",
       "</table>\n",
       "</div>"
      ],
      "text/plain": [
       "              High          Low         Open        Close        Volume  \\\n",
       "count  5171.000000  5171.000000  5171.000000  5171.000000  5.171000e+03   \n",
       "mean     46.382472    45.416696    45.903566    45.911658  5.499569e+07   \n",
       "std      35.706390    34.966516    35.356403    35.371909  3.138856e+07   \n",
       "min      15.620000    14.870000    15.200000    15.150000  7.425600e+06   \n",
       "25%      26.900000    26.345000    26.622500    26.610001  3.298275e+07   \n",
       "50%      30.250000    29.700001    29.975000    29.980000  5.027970e+07   \n",
       "75%      47.985001    47.035000    47.549999    47.580002  6.850810e+07   \n",
       "max     216.380005   211.470001   216.330002   214.320007  5.910522e+08   \n",
       "\n",
       "         Adj Close  \n",
       "count  5171.000000  \n",
       "mean     39.668430  \n",
       "std      37.306224  \n",
       "min      11.666746  \n",
       "25%      19.102306  \n",
       "50%      22.446114  \n",
       "75%      42.054111  \n",
       "max     214.320007  "
      ]
     },
     "execution_count": 86,
     "metadata": {},
     "output_type": "execute_result"
    }
   ],
   "source": [
    "df.describe()"
   ]
  },
  {
   "cell_type": "code",
   "execution_count": 87,
   "metadata": {},
   "outputs": [
    {
     "data": {
      "text/plain": [
       "[<matplotlib.lines.Line2D at 0x13b78be50>]"
      ]
     },
     "execution_count": 87,
     "metadata": {},
     "output_type": "execute_result"
    },
    {
     "data": {
      "image/png": "[encoded data removed]",
      "text/plain": [
       "<Figure size 1800x720 with 1 Axes>"
      ]
     },
     "metadata": {
      "needs_background": "light"
     },
     "output_type": "display_data"
    }
   ],
   "source": [
    "plt.subplots(figsize = (25,10))\n",
    "plt.ylabel('High')\n",
    "plt.title('Orginal Plot')\n",
    "plt.plot('Close', data=df)"
   ]
  },
  {
   "cell_type": "code",
   "execution_count": 88,
   "metadata": {},
   "outputs": [
    {
     "name": "stdout",
     "output_type": "stream",
     "text": [
      "      Close\n",
      "0  58.28125\n",
      "1  56.31250\n",
      "2  56.90625\n",
      "3  55.00000\n",
      "4  55.71875\n",
      "\n",
      "\n",
      "4137\n"
     ]
    }
   ],
   "source": [
    "data = df.filter(['Close'])\n",
    "print(data.head())\n",
    "print(\"\\n\")\n",
    "dataset = data.values\n",
    "training_data_len = int(np.ceil(len(dataset) * .8))\n",
    "print(training_data_len)"
   ]
  },
  {
   "cell_type": "code",
   "execution_count": 89,
   "metadata": {},
   "outputs": [
    {
     "data": {
      "text/plain": [
       "array([[0.21655495],\n",
       "       [0.20667018],\n",
       "       [0.2096513 ],\n",
       "       ...,\n",
       "       [0.98634332],\n",
       "       [0.97203391],\n",
       "       [0.9865943 ]])"
      ]
     },
     "execution_count": 89,
     "metadata": {},
     "output_type": "execute_result"
    }
   ],
   "source": [
    "from sklearn.preprocessing import MinMaxScaler\n",
    "scaler = MinMaxScaler(feature_range=(0,1))\n",
    "scaled_data = scaler.fit_transform(dataset)\n",
    "scaled_data"
   ]
  },
  {
   "cell_type": "code",
   "execution_count": 90,
   "metadata": {},
   "outputs": [
    {
     "name": "stdout",
     "output_type": "stream",
     "text": [
      "[array([0.21655495, 0.20667018, 0.2096513 , 0.20008033, 0.20368905,\n",
      "       0.20572877, 0.19851132, 0.18956795, 0.19458879, 0.20572877,\n",
      "       0.21341692, 0.19254907, 0.19003866, 0.18439021, 0.17811417,\n",
      "       0.1820367 , 0.17340713, 0.17183812, 0.17058291, 0.16964151,\n",
      "       0.1823505 , 0.17701586, 0.18407641, 0.19145077, 0.19160767,\n",
      "       0.19992343, 0.18501782, 0.19003866, 0.17481925, 0.17403474,\n",
      "       0.17136742, 0.1690139 , 0.17403474, 0.16258096, 0.15944293,\n",
      "       0.16054124, 0.16179645, 0.15316689, 0.15379449, 0.14830295,\n",
      "       0.15191168, 0.15834463, 0.16524828, 0.15144098, 0.15708942,\n",
      "       0.16383617, 0.17497615, 0.17748656, 0.16995531, 0.16273786,\n",
      "       0.16336546, 0.16336546, 0.17340713, 0.1683863 , 0.1818798 ,\n",
      "       0.18313501, 0.20478736, 0.20431666, 0.18517472, 0.18580232])]\n",
      "[0.19301977654325178]\n",
      "[array([0.21655495, 0.20667018, 0.2096513 , 0.20008033, 0.20368905,\n",
      "       0.20572877, 0.19851132, 0.18956795, 0.19458879, 0.20572877,\n",
      "       0.21341692, 0.19254907, 0.19003866, 0.18439021, 0.17811417,\n",
      "       0.1820367 , 0.17340713, 0.17183812, 0.17058291, 0.16964151,\n",
      "       0.1823505 , 0.17701586, 0.18407641, 0.19145077, 0.19160767,\n",
      "       0.19992343, 0.18501782, 0.19003866, 0.17481925, 0.17403474,\n",
      "       0.17136742, 0.1690139 , 0.17403474, 0.16258096, 0.15944293,\n",
      "       0.16054124, 0.16179645, 0.15316689, 0.15379449, 0.14830295,\n",
      "       0.15191168, 0.15834463, 0.16524828, 0.15144098, 0.15708942,\n",
      "       0.16383617, 0.17497615, 0.17748656, 0.16995531, 0.16273786,\n",
      "       0.16336546, 0.16336546, 0.17340713, 0.1683863 , 0.1818798 ,\n",
      "       0.18313501, 0.20478736, 0.20431666, 0.18517472, 0.18580232]), array([0.20667018, 0.2096513 , 0.20008033, 0.20368905, 0.20572877,\n",
      "       0.19851132, 0.18956795, 0.19458879, 0.20572877, 0.21341692,\n",
      "       0.19254907, 0.19003866, 0.18439021, 0.17811417, 0.1820367 ,\n",
      "       0.17340713, 0.17183812, 0.17058291, 0.16964151, 0.1823505 ,\n",
      "       0.17701586, 0.18407641, 0.19145077, 0.19160767, 0.19992343,\n",
      "       0.18501782, 0.19003866, 0.17481925, 0.17403474, 0.17136742,\n",
      "       0.1690139 , 0.17403474, 0.16258096, 0.15944293, 0.16054124,\n",
      "       0.16179645, 0.15316689, 0.15379449, 0.14830295, 0.15191168,\n",
      "       0.15834463, 0.16524828, 0.15144098, 0.15708942, 0.16383617,\n",
      "       0.17497615, 0.17748656, 0.16995531, 0.16273786, 0.16336546,\n",
      "       0.16336546, 0.17340713, 0.1683863 , 0.1818798 , 0.18313501,\n",
      "       0.20478736, 0.20431666, 0.18517472, 0.18580232, 0.19301978])]\n",
      "[0.19301977654325178, 0.18344880739002042]\n"
     ]
    }
   ],
   "source": [
    "train_x = []\n",
    "train_y = []\n",
    "train_data = scaled_data[0:int(training_data_len),:]\n",
    "\n",
    "for i in range(60,len(train_data)):\n",
    "    train_x.append(train_data[i-60:i,0])\n",
    "    train_y.append(train_data[i,0])\n",
    "    if i<= 61:\n",
    "        print(train_x)\n",
    "        print(train_y)"
   ]
  },
  {
   "cell_type": "code",
   "execution_count": 91,
   "metadata": {},
   "outputs": [],
   "source": [
    "train_x,train_y = np.array(train_x) , np.array(train_y)"
   ]
  },
  {
   "cell_type": "code",
   "execution_count": 92,
   "metadata": {},
   "outputs": [
    {
     "data": {
      "text/plain": [
       "(4077, 60)"
      ]
     },
     "execution_count": 92,
     "metadata": {},
     "output_type": "execute_result"
    }
   ],
   "source": [
    "train_x.shape"
   ]
  },
  {
   "cell_type": "code",
   "execution_count": 93,
   "metadata": {},
   "outputs": [
    {
     "data": {
      "text/plain": [
       "(4077, 60, 1)"
      ]
     },
     "execution_count": 93,
     "metadata": {},
     "output_type": "execute_result"
    }
   ],
   "source": [
    "train_x = np.reshape(train_x,(train_x.shape[0], train_x.shape[1], 1))\n",
    "train_x.shape"
   ]
  },
  {
   "cell_type": "code",
   "execution_count": 94,
   "metadata": {},
   "outputs": [],
   "source": [
    "model = Sequential()\n",
    "model.add(LSTM(units = 50 , return_sequences=True , input_shape = (train_x.shape[1],1)))\n",
    "model.add(LSTM(units = 50 , return_sequences = True))\n",
    "model.add(Dropout(0.2))\n",
    "model.add(LSTM(units= 50 , return_sequences = False))\n",
    "model.add(Dense(25))\n",
    "model.add(Dense(1))"
   ]
  },
  {
   "cell_type": "code",
   "execution_count": 95,
   "metadata": {},
   "outputs": [
    {
     "data": {
      "image/png": "[encoded data removed]",
      "text/plain": [
       "<IPython.core.display.Image object>"
      ]
     },
     "execution_count": 95,
     "metadata": {},
     "output_type": "execute_result"
    }
   ],
   "source": [
    "keras.utils.plot_model(model = model , to_file = 'AxisBankLSTM.png')"
   ]
  },
  {
   "cell_type": "code",
   "execution_count": 96,
   "metadata": {},
   "outputs": [],
   "source": [
    "model.compile(optimizer='adam' , loss='mean_squared_error')"
   ]
  },
  {
   "cell_type": "code",
   "execution_count": 97,
   "metadata": {},
   "outputs": [
    {
     "name": "stdout",
     "output_type": "stream",
     "text": [
      "Epoch 1/5\n",
      "128/128 [==============================] - 13s 101ms/step - loss: 2.3167e-04\n",
      "Epoch 2/5\n",
      "128/128 [==============================] - 13s 99ms/step - loss: 6.4717e-05\n",
      "Epoch 3/5\n",
      "128/128 [==============================] - 16s 129ms/step - loss: 6.1422e-05\n",
      "Epoch 4/5\n",
      "128/128 [==============================] - 12s 97ms/step - loss: 4.8624e-05\n",
      "Epoch 5/5\n",
      "128/128 [==============================] - 15s 114ms/step - loss: 4.6655e-05\n"
     ]
    },
    {
     "data": {
      "text/plain": [
       "<tensorflow.python.keras.callbacks.History at 0x13b85fa90>"
      ]
     },
     "execution_count": 97,
     "metadata": {},
     "output_type": "execute_result"
    }
   ],
   "source": [
    "model.fit(train_x,train_y,batch_size=32 , epochs=5)"
   ]
  },
  {
   "cell_type": "code",
   "execution_count": 98,
   "metadata": {},
   "outputs": [
    {
     "name": "stdout",
     "output_type": "stream",
     "text": [
      "4137\n"
     ]
    }
   ],
   "source": [
    "test_data = scaled_data[training_data_len - 60:,:]\n",
    "print(training_data_len)\n",
    "test_x = []\n",
    "test_y = dataset[training_data_len: , :]\n",
    "for i in range(60,len(test_data)):\n",
    "    test_x.append(test_data[i-60:i,0])"
   ]
  },
  {
   "cell_type": "code",
   "execution_count": 99,
   "metadata": {},
   "outputs": [],
   "source": [
    "test_x = np.array(test_x)"
   ]
  },
  {
   "cell_type": "code",
   "execution_count": 100,
   "metadata": {},
   "outputs": [],
   "source": [
    "test_x = np.reshape(test_x,(test_x.shape[0] , test_x.shape[1] , 1))"
   ]
  },
  {
   "cell_type": "code",
   "execution_count": 101,
   "metadata": {},
   "outputs": [
    {
     "data": {
      "text/plain": [
       "(1034, 60, 1)"
      ]
     },
     "execution_count": 101,
     "metadata": {},
     "output_type": "execute_result"
    }
   ],
   "source": [
    "test_x.shape"
   ]
  },
  {
   "cell_type": "code",
   "execution_count": 102,
   "metadata": {},
   "outputs": [],
   "source": [
    "prediction = model.predict(test_x)\n",
    "prediction = scaler.inverse_transform(prediction)"
   ]
  },
  {
   "cell_type": "code",
   "execution_count": 103,
   "metadata": {},
   "outputs": [
    {
     "data": {
      "text/plain": [
       "9.215045487521664"
      ]
     },
     "execution_count": 103,
     "metadata": {},
     "output_type": "execute_result"
    }
   ],
   "source": [
    "# Get the root mean squared error (RMSE)\n",
    "rmse = np.sqrt(np.mean(((prediction - test_y) ** 2)))\n",
    "rmse"
   ]
  },
  {
   "cell_type": "code",
   "execution_count": 104,
   "metadata": {},
   "outputs": [
    {
     "ename": "KeyError",
     "evalue": "'Open'",
     "output_type": "error",
     "traceback": [
      "\u001b[0;31m---------------------------------------------------------------------------\u001b[0m",
      "\u001b[0;31mKeyError\u001b[0m                                  Traceback (most recent call last)",
      "\u001b[0;32m~/src/github.com/stock_prediction/env/lib/python3.8/site-packages/pandas/core/indexes/base.py\u001b[0m in \u001b[0;36mget_loc\u001b[0;34m(self, key, method, tolerance)\u001b[0m\n\u001b[1;32m   2645\u001b[0m             \u001b[0;32mtry\u001b[0m\u001b[0;34m:\u001b[0m\u001b[0;34m\u001b[0m\u001b[0;34m\u001b[0m\u001b[0m\n\u001b[0;32m-> 2646\u001b[0;31m                 \u001b[0;32mreturn\u001b[0m \u001b[0mself\u001b[0m\u001b[0;34m.\u001b[0m\u001b[0m_engine\u001b[0m\u001b[0;34m.\u001b[0m\u001b[0mget_loc\u001b[0m\u001b[0;34m(\u001b[0m\u001b[0mkey\u001b[0m\u001b[0;34m)\u001b[0m\u001b[0;34m\u001b[0m\u001b[0;34m\u001b[0m\u001b[0m\n\u001b[0m\u001b[1;32m   2647\u001b[0m             \u001b[0;32mexcept\u001b[0m \u001b[0mKeyError\u001b[0m\u001b[0;34m:\u001b[0m\u001b[0;34m\u001b[0m\u001b[0;34m\u001b[0m\u001b[0m\n",
      "\u001b[0;32mpandas/_libs/index.pyx\u001b[0m in \u001b[0;36mpandas._libs.index.IndexEngine.get_loc\u001b[0;34m()\u001b[0m\n",
      "\u001b[0;32mpandas/_libs/index.pyx\u001b[0m in \u001b[0;36mpandas._libs.index.IndexEngine.get_loc\u001b[0;34m()\u001b[0m\n",
      "\u001b[0;32mpandas/_libs/hashtable_class_helper.pxi\u001b[0m in \u001b[0;36mpandas._libs.hashtable.PyObjectHashTable.get_item\u001b[0;34m()\u001b[0m\n",
      "\u001b[0;32mpandas/_libs/hashtable_class_helper.pxi\u001b[0m in \u001b[0;36mpandas._libs.hashtable.PyObjectHashTable.get_item\u001b[0;34m()\u001b[0m\n",
      "\u001b[0;31mKeyError\u001b[0m: 'Open'",
      "\nDuring handling of the above exception, another exception occurred:\n",
      "\u001b[0;31mKeyError\u001b[0m                                  Traceback (most recent call last)",
      "\u001b[0;32m<ipython-input-104-31da975d4626>\u001b[0m in \u001b[0;36m<module>\u001b[0;34m\u001b[0m\n\u001b[1;32m      8\u001b[0m \u001b[0mplt\u001b[0m\u001b[0;34m.\u001b[0m\u001b[0mxlabel\u001b[0m\u001b[0;34m(\u001b[0m\u001b[0;34m'Date'\u001b[0m\u001b[0;34m,\u001b[0m \u001b[0mfontsize\u001b[0m\u001b[0;34m=\u001b[0m\u001b[0;36m18\u001b[0m\u001b[0;34m)\u001b[0m\u001b[0;34m\u001b[0m\u001b[0;34m\u001b[0m\u001b[0m\n\u001b[1;32m      9\u001b[0m \u001b[0mplt\u001b[0m\u001b[0;34m.\u001b[0m\u001b[0mylabel\u001b[0m\u001b[0;34m(\u001b[0m\u001b[0;34m'Open Price INR'\u001b[0m\u001b[0;34m,\u001b[0m \u001b[0mfontsize\u001b[0m\u001b[0;34m=\u001b[0m\u001b[0;36m18\u001b[0m\u001b[0;34m)\u001b[0m\u001b[0;34m\u001b[0m\u001b[0;34m\u001b[0m\u001b[0m\n\u001b[0;32m---> 10\u001b[0;31m \u001b[0mplt\u001b[0m\u001b[0;34m.\u001b[0m\u001b[0mplot\u001b[0m\u001b[0;34m(\u001b[0m\u001b[0mtrain\u001b[0m\u001b[0;34m[\u001b[0m\u001b[0;34m'Open'\u001b[0m\u001b[0;34m]\u001b[0m\u001b[0;34m)\u001b[0m\u001b[0;34m\u001b[0m\u001b[0;34m\u001b[0m\u001b[0m\n\u001b[0m\u001b[1;32m     11\u001b[0m \u001b[0mplt\u001b[0m\u001b[0;34m.\u001b[0m\u001b[0mplot\u001b[0m\u001b[0;34m(\u001b[0m\u001b[0mactual\u001b[0m\u001b[0;34m[\u001b[0m\u001b[0;34m[\u001b[0m\u001b[0;34m'Open'\u001b[0m\u001b[0;34m,\u001b[0m \u001b[0;34m'Predictions'\u001b[0m\u001b[0;34m]\u001b[0m\u001b[0;34m]\u001b[0m\u001b[0;34m)\u001b[0m\u001b[0;34m\u001b[0m\u001b[0;34m\u001b[0m\u001b[0m\n\u001b[1;32m     12\u001b[0m \u001b[0;31m# plt.plot_date(x=df['Date'], y=df['Open'])\u001b[0m\u001b[0;34m\u001b[0m\u001b[0;34m\u001b[0m\u001b[0;34m\u001b[0m\u001b[0m\n",
      "\u001b[0;32m~/src/github.com/stock_prediction/env/lib/python3.8/site-packages/pandas/core/frame.py\u001b[0m in \u001b[0;36m__getitem__\u001b[0;34m(self, key)\u001b[0m\n\u001b[1;32m   2798\u001b[0m             \u001b[0;32mif\u001b[0m \u001b[0mself\u001b[0m\u001b[0;34m.\u001b[0m\u001b[0mcolumns\u001b[0m\u001b[0;34m.\u001b[0m\u001b[0mnlevels\u001b[0m \u001b[0;34m>\u001b[0m \u001b[0;36m1\u001b[0m\u001b[0;34m:\u001b[0m\u001b[0;34m\u001b[0m\u001b[0;34m\u001b[0m\u001b[0m\n\u001b[1;32m   2799\u001b[0m                 \u001b[0;32mreturn\u001b[0m \u001b[0mself\u001b[0m\u001b[0;34m.\u001b[0m\u001b[0m_getitem_multilevel\u001b[0m\u001b[0;34m(\u001b[0m\u001b[0mkey\u001b[0m\u001b[0;34m)\u001b[0m\u001b[0;34m\u001b[0m\u001b[0;34m\u001b[0m\u001b[0m\n\u001b[0;32m-> 2800\u001b[0;31m             \u001b[0mindexer\u001b[0m \u001b[0;34m=\u001b[0m \u001b[0mself\u001b[0m\u001b[0;34m.\u001b[0m\u001b[0mcolumns\u001b[0m\u001b[0;34m.\u001b[0m\u001b[0mget_loc\u001b[0m\u001b[0;34m(\u001b[0m\u001b[0mkey\u001b[0m\u001b[0;34m)\u001b[0m\u001b[0;34m\u001b[0m\u001b[0;34m\u001b[0m\u001b[0m\n\u001b[0m\u001b[1;32m   2801\u001b[0m             \u001b[0;32mif\u001b[0m \u001b[0mis_integer\u001b[0m\u001b[0;34m(\u001b[0m\u001b[0mindexer\u001b[0m\u001b[0;34m)\u001b[0m\u001b[0;34m:\u001b[0m\u001b[0;34m\u001b[0m\u001b[0;34m\u001b[0m\u001b[0m\n\u001b[1;32m   2802\u001b[0m                 \u001b[0mindexer\u001b[0m \u001b[0;34m=\u001b[0m \u001b[0;34m[\u001b[0m\u001b[0mindexer\u001b[0m\u001b[0;34m]\u001b[0m\u001b[0;34m\u001b[0m\u001b[0;34m\u001b[0m\u001b[0m\n",
      "\u001b[0;32m~/src/github.com/stock_prediction/env/lib/python3.8/site-packages/pandas/core/indexes/base.py\u001b[0m in \u001b[0;36mget_loc\u001b[0;34m(self, key, method, tolerance)\u001b[0m\n\u001b[1;32m   2646\u001b[0m                 \u001b[0;32mreturn\u001b[0m \u001b[0mself\u001b[0m\u001b[0;34m.\u001b[0m\u001b[0m_engine\u001b[0m\u001b[0;34m.\u001b[0m\u001b[0mget_loc\u001b[0m\u001b[0;34m(\u001b[0m\u001b[0mkey\u001b[0m\u001b[0;34m)\u001b[0m\u001b[0;34m\u001b[0m\u001b[0;34m\u001b[0m\u001b[0m\n\u001b[1;32m   2647\u001b[0m             \u001b[0;32mexcept\u001b[0m \u001b[0mKeyError\u001b[0m\u001b[0;34m:\u001b[0m\u001b[0;34m\u001b[0m\u001b[0;34m\u001b[0m\u001b[0m\n\u001b[0;32m-> 2648\u001b[0;31m                 \u001b[0;32mreturn\u001b[0m \u001b[0mself\u001b[0m\u001b[0;34m.\u001b[0m\u001b[0m_engine\u001b[0m\u001b[0;34m.\u001b[0m\u001b[0mget_loc\u001b[0m\u001b[0;34m(\u001b[0m\u001b[0mself\u001b[0m\u001b[0;34m.\u001b[0m\u001b[0m_maybe_cast_indexer\u001b[0m\u001b[0;34m(\u001b[0m\u001b[0mkey\u001b[0m\u001b[0;34m)\u001b[0m\u001b[0;34m)\u001b[0m\u001b[0;34m\u001b[0m\u001b[0;34m\u001b[0m\u001b[0m\n\u001b[0m\u001b[1;32m   2649\u001b[0m         \u001b[0mindexer\u001b[0m \u001b[0;34m=\u001b[0m \u001b[0mself\u001b[0m\u001b[0;34m.\u001b[0m\u001b[0mget_indexer\u001b[0m\u001b[0;34m(\u001b[0m\u001b[0;34m[\u001b[0m\u001b[0mkey\u001b[0m\u001b[0;34m]\u001b[0m\u001b[0;34m,\u001b[0m \u001b[0mmethod\u001b[0m\u001b[0;34m=\u001b[0m\u001b[0mmethod\u001b[0m\u001b[0;34m,\u001b[0m \u001b[0mtolerance\u001b[0m\u001b[0;34m=\u001b[0m\u001b[0mtolerance\u001b[0m\u001b[0;34m)\u001b[0m\u001b[0;34m\u001b[0m\u001b[0;34m\u001b[0m\u001b[0m\n\u001b[1;32m   2650\u001b[0m         \u001b[0;32mif\u001b[0m \u001b[0mindexer\u001b[0m\u001b[0;34m.\u001b[0m\u001b[0mndim\u001b[0m \u001b[0;34m>\u001b[0m \u001b[0;36m1\u001b[0m \u001b[0;32mor\u001b[0m \u001b[0mindexer\u001b[0m\u001b[0;34m.\u001b[0m\u001b[0msize\u001b[0m \u001b[0;34m>\u001b[0m \u001b[0;36m1\u001b[0m\u001b[0;34m:\u001b[0m\u001b[0;34m\u001b[0m\u001b[0;34m\u001b[0m\u001b[0m\n",
      "\u001b[0;32mpandas/_libs/index.pyx\u001b[0m in \u001b[0;36mpandas._libs.index.IndexEngine.get_loc\u001b[0;34m()\u001b[0m\n",
      "\u001b[0;32mpandas/_libs/index.pyx\u001b[0m in \u001b[0;36mpandas._libs.index.IndexEngine.get_loc\u001b[0;34m()\u001b[0m\n",
      "\u001b[0;32mpandas/_libs/hashtable_class_helper.pxi\u001b[0m in \u001b[0;36mpandas._libs.hashtable.PyObjectHashTable.get_item\u001b[0;34m()\u001b[0m\n",
      "\u001b[0;32mpandas/_libs/hashtable_class_helper.pxi\u001b[0m in \u001b[0;36mpandas._libs.hashtable.PyObjectHashTable.get_item\u001b[0;34m()\u001b[0m\n",
      "\u001b[0;31mKeyError\u001b[0m: 'Open'"
     ]
    },
    {
     "data": {
      "image/png": "[encoded data removed]",
      "text/plain": [
       "<Figure size 1152x576 with 1 Axes>"
      ]
     },
     "metadata": {
      "needs_background": "light"
     },
     "output_type": "display_data"
    }
   ],
   "source": [
    "#Plot/Create the data for the graph\n",
    "train = data[:training_data_len]\n",
    "actual = data[training_data_len:]\n",
    "actual['Predictions'] = prediction\n",
    "#Visualize the data\n",
    "plt.figure(figsize=(16,8))\n",
    "plt.title('Model')\n",
    "plt.xlabel('Date', fontsize=18)\n",
    "plt.ylabel('Open Price INR', fontsize=18)\n",
    "plt.plot(train['Open'])\n",
    "plt.plot(actual[['Open', 'Predictions']])\n",
    "# plt.plot_date(x=df['Date'], y=df['Open'])\n",
    "plt.legend(['Train', 'Actual', 'Predictions'], loc='lower right')\n",
    "plt.savefig(csv_path.with_suffix('.png'))\n",
    "plt.show()"
   ]
  },
  {
   "cell_type": "code",
   "execution_count": null,
   "metadata": {},
   "outputs": [],
   "source": []
  },
  {
   "cell_type": "code",
   "execution_count": null,
   "metadata": {},
   "outputs": [],
   "source": []
  }
 ],
 "metadata": {
  "kernelspec": {
   "display_name": "Python 3",
   "language": "python",
   "name": "python3"
  },
  "language_info": {
   "codemirror_mode": {
    "name": "ipython",
    "version": 3
   },
   "file_extension": ".py",
   "mimetype": "text/x-python",
   "name": "python",
   "nbconvert_exporter": "python",
   "pygments_lexer": "ipython3",
   "version": "3.8.4"
  }
 },
 "nbformat": 4,
 "nbformat_minor": 4
}
