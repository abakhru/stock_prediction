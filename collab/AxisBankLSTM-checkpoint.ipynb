{
 "cells": [
  {
   "cell_type": "code",
   "execution_count": 35,
   "metadata": {},
   "outputs": [],
   "source": [
    "import pandas as pd\n",
    "import numpy as np\n",
    "import seaborn as sns\n",
    "import keras\n",
    "from pathlib import Path\n",
    "import pandas_datareader\n",
    "import matplotlib.pyplot as plt\n",
    "from keras.layers import Dense,Dropout,LSTM\n",
    "from keras.models import Sequential\n",
    "import warnings\n",
    "from datetime import datetime\n",
    "warnings.filterwarnings('ignore')\n",
    "import graphviz"
   ]
  },
  {
   "cell_type": "code",
   "execution_count": 137,
   "metadata": {},
   "outputs": [
    {
     "data": {
      "text/html": [
       "<div>\n",
       "<style scoped>\n",
       "    .dataframe tbody tr th:only-of-type {\n",
       "        vertical-align: middle;\n",
       "    }\n",
       "\n",
       "    .dataframe tbody tr th {\n",
       "        vertical-align: top;\n",
       "    }\n",
       "\n",
       "    .dataframe thead th {\n",
       "        text-align: right;\n",
       "    }\n",
       "</style>\n",
       "<table border=\"1\" class=\"dataframe\">\n",
       "  <thead>\n",
       "    <tr style=\"text-align: right;\">\n",
       "      <th></th>\n",
       "      <th>Date</th>\n",
       "      <th>High</th>\n",
       "      <th>Low</th>\n",
       "      <th>Open</th>\n",
       "      <th>Close</th>\n",
       "      <th>Volume</th>\n",
       "      <th>Adj Close</th>\n",
       "    </tr>\n",
       "  </thead>\n",
       "  <tbody>\n",
       "    <tr>\n",
       "      <th>2528</th>\n",
       "      <td>2020-07-15</td>\n",
       "      <td>1550.000000</td>\n",
       "      <td>1457.0</td>\n",
       "      <td>1543.000000</td>\n",
       "      <td>1546.010010</td>\n",
       "      <td>16367800</td>\n",
       "      <td>1546.010010</td>\n",
       "    </tr>\n",
       "    <tr>\n",
       "      <th>2529</th>\n",
       "      <td>2020-07-16</td>\n",
       "      <td>1531.709961</td>\n",
       "      <td>1466.0</td>\n",
       "      <td>1477.160034</td>\n",
       "      <td>1500.640015</td>\n",
       "      <td>14300800</td>\n",
       "      <td>1500.640015</td>\n",
       "    </tr>\n",
       "    <tr>\n",
       "      <th>2530</th>\n",
       "      <td>2020-07-17</td>\n",
       "      <td>1537.510010</td>\n",
       "      <td>1490.0</td>\n",
       "      <td>1513.449951</td>\n",
       "      <td>1500.839966</td>\n",
       "      <td>9330000</td>\n",
       "      <td>1500.839966</td>\n",
       "    </tr>\n",
       "    <tr>\n",
       "      <th>2531</th>\n",
       "      <td>2020-07-20</td>\n",
       "      <td>1650.000000</td>\n",
       "      <td>1488.0</td>\n",
       "      <td>1519.010010</td>\n",
       "      <td>1643.000000</td>\n",
       "      <td>17121400</td>\n",
       "      <td>1643.000000</td>\n",
       "    </tr>\n",
       "    <tr>\n",
       "      <th>2532</th>\n",
       "      <td>2020-07-21</td>\n",
       "      <td>1675.000000</td>\n",
       "      <td>1558.0</td>\n",
       "      <td>1639.930054</td>\n",
       "      <td>1568.359985</td>\n",
       "      <td>16107200</td>\n",
       "      <td>1568.359985</td>\n",
       "    </tr>\n",
       "  </tbody>\n",
       "</table>\n",
       "</div>"
      ],
      "text/plain": [
       "            Date         High     Low         Open        Close    Volume  \\\n",
       "2528  2020-07-15  1550.000000  1457.0  1543.000000  1546.010010  16367800   \n",
       "2529  2020-07-16  1531.709961  1466.0  1477.160034  1500.640015  14300800   \n",
       "2530  2020-07-17  1537.510010  1490.0  1513.449951  1500.839966   9330000   \n",
       "2531  2020-07-20  1650.000000  1488.0  1519.010010  1643.000000  17121400   \n",
       "2532  2020-07-21  1675.000000  1558.0  1639.930054  1568.359985  16107200   \n",
       "\n",
       "        Adj Close  \n",
       "2528  1546.010010  \n",
       "2529  1500.640015  \n",
       "2530  1500.839966  \n",
       "2531  1643.000000  \n",
       "2532  1568.359985  "
      ]
     },
     "execution_count": 137,
     "metadata": {},
     "output_type": "execute_result"
    }
   ],
   "source": [
    "TODAY_DATE = datetime.now().strftime(\"%Y-%m-%d\")\n",
    "stock_symbol = 'TSLA'\n",
    "csv_path = Path(f'{stock_symbol.lower()}_quote_{TODAY_DATE}.csv')\n",
    "if csv_path.exists():\n",
    "    df = pd.read_csv(csv_path)\n",
    "else:\n",
    "    df = pandas_datareader.DataReader(name=stock_symbol,\n",
    "                                      data_source='yahoo',\n",
    "                                      start='2000-01-01', \n",
    "                                      end=TODAY_DATE)\n",
    "    df.to_csv(csv_path)\n",
    "df.head()\n",
    "# date_time = pd.to_datetime(df['Date'])\n",
    "# print(date_time)\n",
    "# df.set_index(date_time)\n",
    "df.tail()"
   ]
  },
  {
   "cell_type": "code",
   "execution_count": 138,
   "metadata": {},
   "outputs": [
    {
     "data": {
      "text/plain": [
       "(2533, 7)"
      ]
     },
     "execution_count": 138,
     "metadata": {},
     "output_type": "execute_result"
    }
   ],
   "source": [
    "df.shape"
   ]
  },
  {
   "cell_type": "code",
   "execution_count": 139,
   "metadata": {},
   "outputs": [
    {
     "data": {
      "text/plain": [
       "Date         0\n",
       "High         0\n",
       "Low          0\n",
       "Open         0\n",
       "Close        0\n",
       "Volume       0\n",
       "Adj Close    0\n",
       "dtype: int64"
      ]
     },
     "execution_count": 139,
     "metadata": {},
     "output_type": "execute_result"
    }
   ],
   "source": [
    "df.isnull().sum()"
   ]
  },
  {
   "cell_type": "code",
   "execution_count": 140,
   "metadata": {},
   "outputs": [],
   "source": [
    "df.replace(np.NaN , df.mean(),inplace=True)"
   ]
  },
  {
   "cell_type": "code",
   "execution_count": 141,
   "metadata": {},
   "outputs": [
    {
     "data": {
      "text/plain": [
       "Date         0\n",
       "High         0\n",
       "Low          0\n",
       "Open         0\n",
       "Close        0\n",
       "Volume       0\n",
       "Adj Close    0\n",
       "dtype: int64"
      ]
     },
     "execution_count": 141,
     "metadata": {},
     "output_type": "execute_result"
    }
   ],
   "source": [
    "df.isnull().sum()"
   ]
  },
  {
   "cell_type": "code",
   "execution_count": 142,
   "metadata": {},
   "outputs": [
    {
     "data": {
      "text/html": [
       "<div>\n",
       "<style scoped>\n",
       "    .dataframe tbody tr th:only-of-type {\n",
       "        vertical-align: middle;\n",
       "    }\n",
       "\n",
       "    .dataframe tbody tr th {\n",
       "        vertical-align: top;\n",
       "    }\n",
       "\n",
       "    .dataframe thead th {\n",
       "        text-align: right;\n",
       "    }\n",
       "</style>\n",
       "<table border=\"1\" class=\"dataframe\">\n",
       "  <thead>\n",
       "    <tr style=\"text-align: right;\">\n",
       "      <th></th>\n",
       "      <th>High</th>\n",
       "      <th>Low</th>\n",
       "      <th>Open</th>\n",
       "      <th>Close</th>\n",
       "      <th>Volume</th>\n",
       "      <th>Adj Close</th>\n",
       "    </tr>\n",
       "  </thead>\n",
       "  <tbody>\n",
       "    <tr>\n",
       "      <th>count</th>\n",
       "      <td>2533.000000</td>\n",
       "      <td>2533.000000</td>\n",
       "      <td>2533.000000</td>\n",
       "      <td>2533.000000</td>\n",
       "      <td>2.533000e+03</td>\n",
       "      <td>2533.000000</td>\n",
       "    </tr>\n",
       "    <tr>\n",
       "      <th>mean</th>\n",
       "      <td>220.734919</td>\n",
       "      <td>211.832290</td>\n",
       "      <td>216.339700</td>\n",
       "      <td>216.467509</td>\n",
       "      <td>6.111404e+06</td>\n",
       "      <td>216.467509</td>\n",
       "    </tr>\n",
       "    <tr>\n",
       "      <th>std</th>\n",
       "      <td>194.111907</td>\n",
       "      <td>183.025508</td>\n",
       "      <td>188.614963</td>\n",
       "      <td>188.946526</td>\n",
       "      <td>5.720265e+06</td>\n",
       "      <td>188.946526</td>\n",
       "    </tr>\n",
       "    <tr>\n",
       "      <th>min</th>\n",
       "      <td>16.629999</td>\n",
       "      <td>14.980000</td>\n",
       "      <td>16.139999</td>\n",
       "      <td>15.800000</td>\n",
       "      <td>1.185000e+05</td>\n",
       "      <td>15.800000</td>\n",
       "    </tr>\n",
       "    <tr>\n",
       "      <th>25%</th>\n",
       "      <td>35.799999</td>\n",
       "      <td>34.570000</td>\n",
       "      <td>35.209999</td>\n",
       "      <td>35.150002</td>\n",
       "      <td>2.041100e+06</td>\n",
       "      <td>35.150002</td>\n",
       "    </tr>\n",
       "    <tr>\n",
       "      <th>50%</th>\n",
       "      <td>221.880005</td>\n",
       "      <td>214.500000</td>\n",
       "      <td>218.270004</td>\n",
       "      <td>218.429993</td>\n",
       "      <td>4.806700e+06</td>\n",
       "      <td>218.429993</td>\n",
       "    </tr>\n",
       "    <tr>\n",
       "      <th>75%</th>\n",
       "      <td>291.489990</td>\n",
       "      <td>280.500000</td>\n",
       "      <td>285.010010</td>\n",
       "      <td>285.880005</td>\n",
       "      <td>7.922100e+06</td>\n",
       "      <td>285.880005</td>\n",
       "    </tr>\n",
       "    <tr>\n",
       "      <th>max</th>\n",
       "      <td>1794.989990</td>\n",
       "      <td>1558.000000</td>\n",
       "      <td>1659.000000</td>\n",
       "      <td>1643.000000</td>\n",
       "      <td>6.093880e+07</td>\n",
       "      <td>1643.000000</td>\n",
       "    </tr>\n",
       "  </tbody>\n",
       "</table>\n",
       "</div>"
      ],
      "text/plain": [
       "              High          Low         Open        Close        Volume  \\\n",
       "count  2533.000000  2533.000000  2533.000000  2533.000000  2.533000e+03   \n",
       "mean    220.734919   211.832290   216.339700   216.467509  6.111404e+06   \n",
       "std     194.111907   183.025508   188.614963   188.946526  5.720265e+06   \n",
       "min      16.629999    14.980000    16.139999    15.800000  1.185000e+05   \n",
       "25%      35.799999    34.570000    35.209999    35.150002  2.041100e+06   \n",
       "50%     221.880005   214.500000   218.270004   218.429993  4.806700e+06   \n",
       "75%     291.489990   280.500000   285.010010   285.880005  7.922100e+06   \n",
       "max    1794.989990  1558.000000  1659.000000  1643.000000  6.093880e+07   \n",
       "\n",
       "         Adj Close  \n",
       "count  2533.000000  \n",
       "mean    216.467509  \n",
       "std     188.946526  \n",
       "min      15.800000  \n",
       "25%      35.150002  \n",
       "50%     218.429993  \n",
       "75%     285.880005  \n",
       "max    1643.000000  "
      ]
     },
     "execution_count": 142,
     "metadata": {},
     "output_type": "execute_result"
    }
   ],
   "source": [
    "df.describe()"
   ]
  },
  {
   "cell_type": "code",
   "execution_count": 143,
   "metadata": {},
   "outputs": [
    {
     "data": {
      "text/plain": [
       "[<matplotlib.lines.Line2D at 0x14282d700>]"
      ]
     },
     "execution_count": 143,
     "metadata": {},
     "output_type": "execute_result"
    },
    {
     "data": {
      "image/png": "[encoded data removed]",
      "text/plain": [
       "<Figure size 1800x720 with 1 Axes>"
      ]
     },
     "metadata": {
      "needs_background": "light"
     },
     "output_type": "display_data"
    }
   ],
   "source": [
    "plt.subplots(figsize = (25,10))\n",
    "plt.ylabel('High')\n",
    "plt.title('Orginal Plot')\n",
    "plt.plot('Open',data=df)"
   ]
  },
  {
   "cell_type": "code",
   "execution_count": 144,
   "metadata": {},
   "outputs": [
    {
     "name": "stdout",
     "output_type": "stream",
     "text": [
      "        Open\n",
      "0  19.000000\n",
      "1  25.790001\n",
      "2  25.000000\n",
      "3  23.000000\n",
      "4  20.000000\n",
      "\n",
      "\n",
      "2027\n"
     ]
    }
   ],
   "source": [
    "data = df.filter(['Open'])\n",
    "print(data.head())\n",
    "print(\"\\n\")\n",
    "dataset = data.values\n",
    "training_data_len = int(np.ceil(len(dataset) * .8))\n",
    "print(training_data_len)"
   ]
  },
  {
   "cell_type": "code",
   "execution_count": 145,
   "metadata": {},
   "outputs": [
    {
     "data": {
      "text/plain": [
       "array([[0.00174087],\n",
       "       [0.0058739 ],\n",
       "       [0.00539303],\n",
       "       ...,\n",
       "       [0.91140447],\n",
       "       [0.91478885],\n",
       "       [0.98839223]])"
      ]
     },
     "execution_count": 145,
     "metadata": {},
     "output_type": "execute_result"
    }
   ],
   "source": [
    "from sklearn.preprocessing import MinMaxScaler\n",
    "scaler = MinMaxScaler(feature_range=(0,1))\n",
    "scaled_data = scaler.fit_transform(dataset)\n",
    "scaled_data"
   ]
  },
  {
   "cell_type": "code",
   "execution_count": 146,
   "metadata": {},
   "outputs": [
    {
     "name": "stdout",
     "output_type": "stream",
     "text": [
      "[array([0.00174087, 0.0058739 , 0.00539303, 0.00417565, 0.00234956,\n",
      "       0.00015826, 0.        , 0.00087652, 0.00110174, 0.00076087,\n",
      "       0.00109565, 0.00231304, 0.00277565, 0.00318347, 0.00347565,\n",
      "       0.0027513 , 0.00265391, 0.00307391, 0.0032626 , 0.00290347,\n",
      "       0.00268434, 0.00281826, 0.0024713 , 0.00265391, 0.00295826,\n",
      "       0.00353652, 0.00328695, 0.00241043, 0.00228869, 0.00213652,\n",
      "       0.00155217, 0.00101043, 0.00124174, 0.00140609, 0.00171652,\n",
      "       0.0021    , 0.00146087, 0.00152782, 0.00179565, 0.00189304,\n",
      "       0.00183826, 0.0022826 , 0.00219739, 0.00216695, 0.00214261,\n",
      "       0.00211826, 0.00257478, 0.00287913, 0.00272087, 0.0027513 ,\n",
      "       0.00295826, 0.00280608, 0.0028913 , 0.00267826, 0.00294608,\n",
      "       0.00365825, 0.00297043, 0.00275739, 0.0028913 , 0.00287913])]\n",
      "[0.002282604725056798]\n",
      "[array([0.00174087, 0.0058739 , 0.00539303, 0.00417565, 0.00234956,\n",
      "       0.00015826, 0.        , 0.00087652, 0.00110174, 0.00076087,\n",
      "       0.00109565, 0.00231304, 0.00277565, 0.00318347, 0.00347565,\n",
      "       0.0027513 , 0.00265391, 0.00307391, 0.0032626 , 0.00290347,\n",
      "       0.00268434, 0.00281826, 0.0024713 , 0.00265391, 0.00295826,\n",
      "       0.00353652, 0.00328695, 0.00241043, 0.00228869, 0.00213652,\n",
      "       0.00155217, 0.00101043, 0.00124174, 0.00140609, 0.00171652,\n",
      "       0.0021    , 0.00146087, 0.00152782, 0.00179565, 0.00189304,\n",
      "       0.00183826, 0.0022826 , 0.00219739, 0.00216695, 0.00214261,\n",
      "       0.00211826, 0.00257478, 0.00287913, 0.00272087, 0.0027513 ,\n",
      "       0.00295826, 0.00280608, 0.0028913 , 0.00267826, 0.00294608,\n",
      "       0.00365825, 0.00297043, 0.00275739, 0.0028913 , 0.00287913]), array([0.0058739 , 0.00539303, 0.00417565, 0.00234956, 0.00015826,\n",
      "       0.        , 0.00087652, 0.00110174, 0.00076087, 0.00109565,\n",
      "       0.00231304, 0.00277565, 0.00318347, 0.00347565, 0.0027513 ,\n",
      "       0.00265391, 0.00307391, 0.0032626 , 0.00290347, 0.00268434,\n",
      "       0.00281826, 0.0024713 , 0.00265391, 0.00295826, 0.00353652,\n",
      "       0.00328695, 0.00241043, 0.00228869, 0.00213652, 0.00155217,\n",
      "       0.00101043, 0.00124174, 0.00140609, 0.00171652, 0.0021    ,\n",
      "       0.00146087, 0.00152782, 0.00179565, 0.00189304, 0.00183826,\n",
      "       0.0022826 , 0.00219739, 0.00216695, 0.00214261, 0.00211826,\n",
      "       0.00257478, 0.00287913, 0.00272087, 0.0027513 , 0.00295826,\n",
      "       0.00280608, 0.0028913 , 0.00267826, 0.00294608, 0.00365825,\n",
      "       0.00297043, 0.00275739, 0.0028913 , 0.00287913, 0.0022826 ])]\n",
      "[0.002282604725056798, 0.002319127236572521]\n"
     ]
    }
   ],
   "source": [
    "train_x = []\n",
    "train_y = []\n",
    "train_data = scaled_data[0:int(training_data_len),:]\n",
    "\n",
    "for i in range(60,len(train_data)):\n",
    "    train_x.append(train_data[i-60:i,0])\n",
    "    train_y.append(train_data[i,0])\n",
    "    if i<= 61:\n",
    "        print(train_x)\n",
    "        print(train_y)"
   ]
  },
  {
   "cell_type": "code",
   "execution_count": 147,
   "metadata": {},
   "outputs": [],
   "source": [
    "train_x,train_y = np.array(train_x) , np.array(train_y)"
   ]
  },
  {
   "cell_type": "code",
   "execution_count": 148,
   "metadata": {},
   "outputs": [
    {
     "data": {
      "text/plain": [
       "(1967, 60)"
      ]
     },
     "execution_count": 148,
     "metadata": {},
     "output_type": "execute_result"
    }
   ],
   "source": [
    "train_x.shape"
   ]
  },
  {
   "cell_type": "code",
   "execution_count": 149,
   "metadata": {},
   "outputs": [
    {
     "data": {
      "text/plain": [
       "(1967, 60, 1)"
      ]
     },
     "execution_count": 149,
     "metadata": {},
     "output_type": "execute_result"
    }
   ],
   "source": [
    "train_x = np.reshape(train_x,(train_x.shape[0], train_x.shape[1], 1))\n",
    "train_x.shape"
   ]
  },
  {
   "cell_type": "code",
   "execution_count": 150,
   "metadata": {},
   "outputs": [],
   "source": [
    "model = Sequential()\n",
    "model.add(LSTM(units = 50 , return_sequences=True , input_shape = (train_x.shape[1],1)))\n",
    "model.add(LSTM(units = 50 , return_sequences = True))\n",
    "model.add(Dropout(0.2))\n",
    "model.add(LSTM(units= 50 , return_sequences = False))\n",
    "model.add(Dense(25))\n",
    "model.add(Dense(1))"
   ]
  },
  {
   "cell_type": "code",
   "execution_count": 151,
   "metadata": {},
   "outputs": [
    {
     "data": {
      "image/png": "[encoded data removed]",
      "text/plain": [
       "<IPython.core.display.Image object>"
      ]
     },
     "execution_count": 151,
     "metadata": {},
     "output_type": "execute_result"
    }
   ],
   "source": [
    "keras.utils.plot_model(model = model , to_file = 'AxisBankLSTM.png')"
   ]
  },
  {
   "cell_type": "code",
   "execution_count": 152,
   "metadata": {},
   "outputs": [],
   "source": [
    "model.compile(optimizer='adam' , loss='mean_squared_error')"
   ]
  },
  {
   "cell_type": "code",
   "execution_count": 153,
   "metadata": {},
   "outputs": [
    {
     "name": "stdout",
     "output_type": "stream",
     "text": [
      "Epoch 1/30\n",
      "62/62 [==============================] - 4s 62ms/step - loss: 6.4131e-04\n",
      "Epoch 2/30\n",
      "62/62 [==============================] - 4s 57ms/step - loss: 1.0765e-04\n",
      "Epoch 3/30\n",
      "62/62 [==============================] - 3s 56ms/step - loss: 9.5658e-05\n",
      "Epoch 4/30\n",
      "62/62 [==============================] - 4s 58ms/step - loss: 9.1464e-05\n",
      "Epoch 5/30\n",
      "62/62 [==============================] - 4s 58ms/step - loss: 9.7442e-05\n",
      "Epoch 6/30\n",
      "62/62 [==============================] - 4s 61ms/step - loss: 7.9500e-05\n",
      "Epoch 7/30\n",
      "62/62 [==============================] - 4s 61ms/step - loss: 7.7827e-05\n",
      "Epoch 8/30\n",
      "62/62 [==============================] - 4s 59ms/step - loss: 8.3941e-05\n",
      "Epoch 9/30\n",
      "62/62 [==============================] - 4s 59ms/step - loss: 8.1122e-05\n",
      "Epoch 10/30\n",
      "62/62 [==============================] - 3s 56ms/step - loss: 6.8838e-05\n",
      "Epoch 11/30\n",
      "62/62 [==============================] - 4s 59ms/step - loss: 6.7478e-05\n",
      "Epoch 12/30\n",
      "62/62 [==============================] - 4s 71ms/step - loss: 6.7347e-05\n",
      "Epoch 13/30\n",
      "62/62 [==============================] - 5s 84ms/step - loss: 6.9626e-05\n",
      "Epoch 14/30\n",
      "62/62 [==============================] - 5s 73ms/step - loss: 6.5152e-05\n",
      "Epoch 15/30\n",
      "62/62 [==============================] - 4s 68ms/step - loss: 5.2480e-05\n",
      "Epoch 16/30\n",
      "62/62 [==============================] - 4s 64ms/step - loss: 5.4821e-05\n",
      "Epoch 17/30\n",
      "62/62 [==============================] - 4s 61ms/step - loss: 5.2071e-05\n",
      "Epoch 18/30\n",
      "62/62 [==============================] - 3s 55ms/step - loss: 5.3789e-05\n",
      "Epoch 19/30\n",
      "62/62 [==============================] - 4s 58ms/step - loss: 5.1646e-05\n",
      "Epoch 20/30\n",
      "62/62 [==============================] - 3s 54ms/step - loss: 5.5120e-05\n",
      "Epoch 21/30\n",
      "62/62 [==============================] - 4s 59ms/step - loss: 4.2368e-05\n",
      "Epoch 22/30\n",
      "62/62 [==============================] - 4s 58ms/step - loss: 4.5071e-05\n",
      "Epoch 23/30\n",
      "62/62 [==============================] - 3s 55ms/step - loss: 5.1755e-05\n",
      "Epoch 24/30\n",
      "62/62 [==============================] - 4s 60ms/step - loss: 4.6261e-05\n",
      "Epoch 25/30\n",
      "62/62 [==============================] - 3s 55ms/step - loss: 4.4027e-05\n",
      "Epoch 26/30\n",
      "62/62 [==============================] - 3s 54ms/step - loss: 4.2681e-05\n",
      "Epoch 27/30\n",
      "62/62 [==============================] - 3s 56ms/step - loss: 4.5234e-05\n",
      "Epoch 28/30\n",
      "62/62 [==============================] - 3s 55ms/step - loss: 3.6025e-05\n",
      "Epoch 29/30\n",
      "62/62 [==============================] - 3s 55ms/step - loss: 4.6714e-05\n",
      "Epoch 30/30\n",
      "62/62 [==============================] - 3s 56ms/step - loss: 3.4808e-05\n"
     ]
    },
    {
     "data": {
      "text/plain": [
       "<tensorflow.python.keras.callbacks.History at 0x1427f74f0>"
      ]
     },
     "execution_count": 153,
     "metadata": {},
     "output_type": "execute_result"
    }
   ],
   "source": [
    "model.fit(train_x,train_y,batch_size=32 , epochs=30)"
   ]
  },
  {
   "cell_type": "code",
   "execution_count": 154,
   "metadata": {},
   "outputs": [],
   "source": [
    "test_data = scaled_data[training_data_len - 60:,:]\n",
    "test_x = []\n",
    "test_y = dataset[training_data_len: , :]\n",
    "for i in range(60,len(test_data)):\n",
    "    test_x.append(test_data[i-60:i,0])"
   ]
  },
  {
   "cell_type": "code",
   "execution_count": 155,
   "metadata": {},
   "outputs": [],
   "source": [
    "test_x = np.array(test_x)"
   ]
  },
  {
   "cell_type": "code",
   "execution_count": 156,
   "metadata": {},
   "outputs": [],
   "source": [
    "test_x = np.reshape(test_x,(test_x.shape[0] , test_x.shape[1] , 1))"
   ]
  },
  {
   "cell_type": "code",
   "execution_count": 157,
   "metadata": {},
   "outputs": [
    {
     "data": {
      "text/plain": [
       "(506, 60, 1)"
      ]
     },
     "execution_count": 157,
     "metadata": {},
     "output_type": "execute_result"
    }
   ],
   "source": [
    "test_x.shape"
   ]
  },
  {
   "cell_type": "code",
   "execution_count": 158,
   "metadata": {},
   "outputs": [],
   "source": [
    "prediction = model.predict(test_x)\n",
    "prediction = scaler.inverse_transform(prediction)"
   ]
  },
  {
   "cell_type": "code",
   "execution_count": 159,
   "metadata": {},
   "outputs": [
    {
     "data": {
      "text/plain": [
       "50.12794155572452"
      ]
     },
     "execution_count": 159,
     "metadata": {},
     "output_type": "execute_result"
    }
   ],
   "source": [
    "# Get the root mean squared error (RMSE)\n",
    "rmse = np.sqrt(np.mean(((prediction - test_y) ** 2)))\n",
    "rmse"
   ]
  },
  {
   "cell_type": "code",
   "execution_count": 160,
   "metadata": {},
   "outputs": [
    {
     "data": {
      "image/png": "[encoded data removed]",
      "text/plain": [
       "<Figure size 1152x576 with 1 Axes>"
      ]
     },
     "metadata": {
      "needs_background": "light"
     },
     "output_type": "display_data"
    }
   ],
   "source": [
    "#Plot/Create the data for the graph\n",
    "train = data[:training_data_len]\n",
    "actual = data[training_data_len:]\n",
    "actual['Predictions'] = prediction\n",
    "#Visualize the data\n",
    "plt.figure(figsize=(16,8))\n",
    "plt.title('Model')\n",
    "plt.xlabel('Date', fontsize=18)\n",
    "plt.ylabel('Open Price INR', fontsize=18)\n",
    "plt.plot(train['Open'])\n",
    "plt.plot(actual[['Open', 'Predictions']])\n",
    "# plt.plot_date(x=df['Date'], y=df['Open'])\n",
    "plt.legend(['Train', 'Actual', 'Predictions'], loc='lower right')\n",
    "plt.savefig(csv_path.with_suffix('.png'))\n",
    "plt.show()"
   ]
  },
  {
   "cell_type": "code",
   "execution_count": null,
   "metadata": {},
   "outputs": [],
   "source": []
  },
  {
   "cell_type": "code",
   "execution_count": null,
   "metadata": {},
   "outputs": [],
   "source": []
  }
 ],
 "metadata": {
  "kernelspec": {
   "display_name": "Python 3",
   "language": "python",
   "name": "python3"
  },
  "language_info": {
   "codemirror_mode": {
    "name": "ipython",
    "version": 3
   },
   "file_extension": ".py",
   "mimetype": "text/x-python",
   "name": "python",
   "nbconvert_exporter": "python",
   "pygments_lexer": "ipython3",
   "version": "3.8.4"
  }
 },
 "nbformat": 4,
 "nbformat_minor": 4
}
