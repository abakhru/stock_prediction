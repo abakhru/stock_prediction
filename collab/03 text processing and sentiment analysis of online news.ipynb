{
 "cells": [
  {
   "cell_type": "code",
   "execution_count": 1,
   "metadata": {
    "ExecuteTime": {
     "end_time": "2020-05-04T20:43:59.563416Z",
     "start_time": "2020-05-04T20:43:59.546696Z"
    }
   },
   "outputs": [
    {
     "data": {
      "text/html": [
       "<style>.container { width:100% !important; }</style>"
      ],
      "text/plain": [
       "<IPython.core.display.HTML object>"
      ]
     },
     "metadata": {},
     "output_type": "display_data"
    }
   ],
   "source": [
    "from IPython.core.display import display, HTML\n",
    "display(HTML(\"<style>.container { width:100% !important; }</style>\"))"
   ]
  },
  {
   "cell_type": "markdown",
   "metadata": {},
   "source": [
    "* This notebook contains the complete code to apply sentiment analysis to the extrated online news related to Microsoft (MSFT).\n",
    "\n",
    "    1. All the news have been extracted from https://business.financialpost.com/"
   ]
  },
  {
   "cell_type": "code",
   "execution_count": 2,
   "metadata": {
    "ExecuteTime": {
     "end_time": "2020-05-04T23:10:08.021318Z",
     "start_time": "2020-05-04T23:10:06.452466Z"
    }
   },
   "outputs": [],
   "source": [
    "import requests\n",
    "import urllib\n",
    "import numpy  as np\n",
    "import pandas as pd\n",
    "import matplotlib.pyplot as plt\n",
    "\n",
    "from bs4 import BeautifulSoup\n",
    "\n",
    "from vaderSentiment.vaderSentiment import SentimentIntensityAnalyzer\n",
    "analyser = SentimentIntensityAnalyzer()"
   ]
  },
  {
   "cell_type": "code",
   "execution_count": null,
   "metadata": {},
   "outputs": [],
   "source": []
  },
  {
   "cell_type": "markdown",
   "metadata": {},
   "source": [
    "## 1. Split text by phrases"
   ]
  },
  {
   "cell_type": "code",
   "execution_count": 3,
   "metadata": {
    "ExecuteTime": {
     "end_time": "2020-05-04T23:10:08.948058Z",
     "start_time": "2020-05-04T23:10:08.945093Z"
    }
   },
   "outputs": [],
   "source": [
    "import requests\n",
    "import urllib\n",
    "import numpy  as np\n",
    "import pandas as pd\n",
    "\n",
    "from bs4 import BeautifulSoup"
   ]
  },
  {
   "cell_type": "code",
   "execution_count": 4,
   "metadata": {
    "ExecuteTime": {
     "end_time": "2020-05-04T23:10:09.550748Z",
     "start_time": "2020-05-04T23:10:09.494852Z"
    }
   },
   "outputs": [
    {
     "data": {
      "text/html": [
       "<div>\n",
       "<style scoped>\n",
       "    .dataframe tbody tr th:only-of-type {\n",
       "        vertical-align: middle;\n",
       "    }\n",
       "\n",
       "    .dataframe tbody tr th {\n",
       "        vertical-align: top;\n",
       "    }\n",
       "\n",
       "    .dataframe thead th {\n",
       "        text-align: right;\n",
       "    }\n",
       "</style>\n",
       "<table border=\"1\" class=\"dataframe\">\n",
       "  <thead>\n",
       "    <tr style=\"text-align: right;\">\n",
       "      <th></th>\n",
       "      <th>n_of_page</th>\n",
       "      <th>principal_url</th>\n",
       "      <th>internal_urls</th>\n",
       "      <th>internals_dates</th>\n",
       "      <th>internals_text</th>\n",
       "    </tr>\n",
       "  </thead>\n",
       "  <tbody>\n",
       "    <tr>\n",
       "      <th>0</th>\n",
       "      <td>1</td>\n",
       "      <td>https://business.financialpost.com/page/1?s=mi...</td>\n",
       "      <td>https://business.financialpost.com/pmn/busines...</td>\n",
       "      <td>2019-08-27T09:25:03-04:00</td>\n",
       "      <td>AMSTERDAM — Microsoft is remotely collecting d...</td>\n",
       "    </tr>\n",
       "    <tr>\n",
       "      <th>1</th>\n",
       "      <td>1</td>\n",
       "      <td>https://business.financialpost.com/page/1?s=mi...</td>\n",
       "      <td>https://business.financialpost.com/technology/...</td>\n",
       "      <td>2015-03-18T11:01:07-04:00</td>\n",
       "      <td>ATLANTA, Georgia – This week, over 10,000 peop...</td>\n",
       "    </tr>\n",
       "    <tr>\n",
       "      <th>2</th>\n",
       "      <td>1</td>\n",
       "      <td>https://business.financialpost.com/page/1?s=mi...</td>\n",
       "      <td>https://business.financialpost.com/pmn/press-r...</td>\n",
       "      <td>2018-09-25T09:02:40-04:00</td>\n",
       "      <td>NEW YORK —  Pexip, an award-winning video conf...</td>\n",
       "    </tr>\n",
       "    <tr>\n",
       "      <th>3</th>\n",
       "      <td>1</td>\n",
       "      <td>https://business.financialpost.com/page/1?s=mi...</td>\n",
       "      <td>https://business.financialpost.com/business-in...</td>\n",
       "      <td>2012-11-13T12:02:39-05:00</td>\n",
       "      <td>Microsoft’s Windows boss Steven Sinofsky is ou...</td>\n",
       "    </tr>\n",
       "    <tr>\n",
       "      <th>4</th>\n",
       "      <td>1</td>\n",
       "      <td>https://business.financialpost.com/page/1?s=mi...</td>\n",
       "      <td>https://business.financialpost.com/business-in...</td>\n",
       "      <td>2013-04-15T11:56:02-04:00</td>\n",
       "      <td>Microsoft is working on a smartwatch with a 1....</td>\n",
       "    </tr>\n",
       "    <tr>\n",
       "      <th>...</th>\n",
       "      <td>...</td>\n",
       "      <td>...</td>\n",
       "      <td>...</td>\n",
       "      <td>...</td>\n",
       "      <td>...</td>\n",
       "    </tr>\n",
       "    <tr>\n",
       "      <th>195</th>\n",
       "      <td>20</td>\n",
       "      <td>https://business.financialpost.com/page/20?s=m...</td>\n",
       "      <td>https://business.financialpost.com/technology/...</td>\n",
       "      <td>2012-06-19T09:52:49-04:00</td>\n",
       "      <td>Microsoft Corp’s new tablet computers are no t...</td>\n",
       "    </tr>\n",
       "    <tr>\n",
       "      <th>196</th>\n",
       "      <td>20</td>\n",
       "      <td>https://business.financialpost.com/page/20?s=m...</td>\n",
       "      <td>https://business.financialpost.com/technology/...</td>\n",
       "      <td>2016-10-26T12:51:56-04:00</td>\n",
       "      <td>NEW YORK CITY — Microsoft Corp on Wednesday an...</td>\n",
       "    </tr>\n",
       "    <tr>\n",
       "      <th>197</th>\n",
       "      <td>20</td>\n",
       "      <td>https://business.financialpost.com/page/20?s=m...</td>\n",
       "      <td>https://business.financialpost.com/technology/...</td>\n",
       "      <td>2017-01-24T11:52:37-05:00</td>\n",
       "      <td>NEW YORK — An equally divided federal appeals ...</td>\n",
       "    </tr>\n",
       "    <tr>\n",
       "      <th>198</th>\n",
       "      <td>20</td>\n",
       "      <td>https://business.financialpost.com/page/20?s=m...</td>\n",
       "      <td>https://business.financialpost.com/pmn/busines...</td>\n",
       "      <td>2019-04-24T16:21:42-04:00</td>\n",
       "      <td>REDMOND, Wash. — Microsoft’s ongoing push to g...</td>\n",
       "    </tr>\n",
       "    <tr>\n",
       "      <th>199</th>\n",
       "      <td>20</td>\n",
       "      <td>https://business.financialpost.com/page/20?s=m...</td>\n",
       "      <td>https://business.financialpost.com/pmn/press-r...</td>\n",
       "      <td>2019-05-14T09:00:32-04:00</td>\n",
       "      <td>CHICAGO —  Productive Edge has achieved Gold P...</td>\n",
       "    </tr>\n",
       "  </tbody>\n",
       "</table>\n",
       "<p>200 rows × 5 columns</p>\n",
       "</div>"
      ],
      "text/plain": [
       "     n_of_page                                      principal_url  \\\n",
       "0            1  https://business.financialpost.com/page/1?s=mi...   \n",
       "1            1  https://business.financialpost.com/page/1?s=mi...   \n",
       "2            1  https://business.financialpost.com/page/1?s=mi...   \n",
       "3            1  https://business.financialpost.com/page/1?s=mi...   \n",
       "4            1  https://business.financialpost.com/page/1?s=mi...   \n",
       "..         ...                                                ...   \n",
       "195         20  https://business.financialpost.com/page/20?s=m...   \n",
       "196         20  https://business.financialpost.com/page/20?s=m...   \n",
       "197         20  https://business.financialpost.com/page/20?s=m...   \n",
       "198         20  https://business.financialpost.com/page/20?s=m...   \n",
       "199         20  https://business.financialpost.com/page/20?s=m...   \n",
       "\n",
       "                                         internal_urls  \\\n",
       "0    https://business.financialpost.com/pmn/busines...   \n",
       "1    https://business.financialpost.com/technology/...   \n",
       "2    https://business.financialpost.com/pmn/press-r...   \n",
       "3    https://business.financialpost.com/business-in...   \n",
       "4    https://business.financialpost.com/business-in...   \n",
       "..                                                 ...   \n",
       "195  https://business.financialpost.com/technology/...   \n",
       "196  https://business.financialpost.com/technology/...   \n",
       "197  https://business.financialpost.com/technology/...   \n",
       "198  https://business.financialpost.com/pmn/busines...   \n",
       "199  https://business.financialpost.com/pmn/press-r...   \n",
       "\n",
       "               internals_dates  \\\n",
       "0    2019-08-27T09:25:03-04:00   \n",
       "1    2015-03-18T11:01:07-04:00   \n",
       "2    2018-09-25T09:02:40-04:00   \n",
       "3    2012-11-13T12:02:39-05:00   \n",
       "4    2013-04-15T11:56:02-04:00   \n",
       "..                         ...   \n",
       "195  2012-06-19T09:52:49-04:00   \n",
       "196  2016-10-26T12:51:56-04:00   \n",
       "197  2017-01-24T11:52:37-05:00   \n",
       "198  2019-04-24T16:21:42-04:00   \n",
       "199  2019-05-14T09:00:32-04:00   \n",
       "\n",
       "                                        internals_text  \n",
       "0    AMSTERDAM — Microsoft is remotely collecting d...  \n",
       "1    ATLANTA, Georgia – This week, over 10,000 peop...  \n",
       "2    NEW YORK —  Pexip, an award-winning video conf...  \n",
       "3    Microsoft’s Windows boss Steven Sinofsky is ou...  \n",
       "4    Microsoft is working on a smartwatch with a 1....  \n",
       "..                                                 ...  \n",
       "195  Microsoft Corp’s new tablet computers are no t...  \n",
       "196  NEW YORK CITY — Microsoft Corp on Wednesday an...  \n",
       "197  NEW YORK — An equally divided federal appeals ...  \n",
       "198  REDMOND, Wash. — Microsoft’s ongoing push to g...  \n",
       "199  CHICAGO —  Productive Edge has achieved Gold P...  \n",
       "\n",
       "[200 rows x 5 columns]"
      ]
     },
     "execution_count": 4,
     "metadata": {},
     "output_type": "execute_result"
    }
   ],
   "source": [
    "df2 = pd.read_pickle(\"../data/microsoft_complete_text.pkl\")\n",
    "df2"
   ]
  },
  {
   "cell_type": "code",
   "execution_count": null,
   "metadata": {
    "ExecuteTime": {
     "end_time": "2020-05-04T23:10:10.095010Z",
     "start_time": "2020-05-04T23:10:10.069039Z"
    }
   },
   "outputs": [],
   "source": []
  },
  {
   "cell_type": "code",
   "execution_count": 5,
   "metadata": {
    "ExecuteTime": {
     "end_time": "2020-05-04T23:10:10.680508Z",
     "start_time": "2020-05-04T23:10:10.668462Z"
    }
   },
   "outputs": [
    {
     "data": {
      "text/plain": [
       "0      AMSTERDAM — Microsoft is remotely collecting d...\n",
       "1      ATLANTA, Georgia – This week, over 10,000 peop...\n",
       "2      NEW YORK —  Pexip, an award-winning video conf...\n",
       "3      Microsoft’s Windows boss Steven Sinofsky is ou...\n",
       "4      Microsoft is working on a smartwatch with a 1....\n",
       "                             ...                        \n",
       "195    Microsoft Corp’s new tablet computers are no t...\n",
       "196    NEW YORK CITY — Microsoft Corp on Wednesday an...\n",
       "197    NEW YORK — An equally divided federal appeals ...\n",
       "198    REDMOND, Wash. — Microsoft’s ongoing push to g...\n",
       "199    CHICAGO —  Productive Edge has achieved Gold P...\n",
       "Name: internals_text, Length: 200, dtype: object"
      ]
     },
     "execution_count": 5,
     "metadata": {},
     "output_type": "execute_result"
    }
   ],
   "source": [
    "text_1 = df2[\"internals_text\"]\n",
    "text_1"
   ]
  },
  {
   "cell_type": "code",
   "execution_count": 6,
   "metadata": {
    "ExecuteTime": {
     "end_time": "2020-05-04T23:10:11.130598Z",
     "start_time": "2020-05-04T23:10:11.124005Z"
    }
   },
   "outputs": [
    {
     "data": {
      "text/plain": [
       "'AMSTERDAM — Microsoft is remotely collecting data from users of Windows Home and Windows Pro, in a potential breach of privacy rules, the Dutch Data Protection Agency (DPA) said on Tuesday.The DPA said it had found the practices while it was testing privacy protection changes in Windows made last year by Microsoft at the agency’s request.“Microsoft has complied with the agreements made,” DPA said. “However, the check also brought to light that Microsoft is remotely collecting other data from users. As a result, Microsoft is still potentially in breach of privacy rules.”The Dutch regulator said it had forwarded its findings to its counterpart in Ireland, where Microsoft has a headquarters.The Irish Data Protection Committee (DPC) said it had received the information from the Dutch regulators last month.“The DPC has had preliminary engagement with Microsoft and, with the assistance of the Dutch authority, we will shortly be engaging further with Microsoft to seek substantive responses on the concerns raised,” it said.Microsoft said it was committed to protecting the privacy of its customers, and had improved privacy features for individuals and small business users of Windows 10 in recent years.“We welcome the opportunity to improve even more the tools and choices we offer to these users,” the company said. (Reporting by Bart Meijer; Additional reporting by Foo Yun Chee in Brussels and Conor Humphries in Dublin; Editing by Edmund Blair and Jan Harvey)'"
      ]
     },
     "execution_count": 6,
     "metadata": {},
     "output_type": "execute_result"
    }
   ],
   "source": [
    "text_1[0]"
   ]
  },
  {
   "cell_type": "code",
   "execution_count": 7,
   "metadata": {
    "ExecuteTime": {
     "end_time": "2020-05-04T23:10:11.589371Z",
     "start_time": "2020-05-04T23:10:11.557871Z"
    }
   },
   "outputs": [
    {
     "data": {
      "text/plain": [
       "0      [AMSTERDAM — Microsoft is remotely collecting ...\n",
       "1      [ATLANTA, Georgia – This week, over 10,000 peo...\n",
       "2      [NEW YORK —  Pexip, an award-winning video con...\n",
       "3      [Microsoft’s Windows boss Steven Sinofsky is o...\n",
       "4      [Microsoft is working on a smartwatch with a 1...\n",
       "                             ...                        \n",
       "195    [Microsoft Corp’s new tablet computers are no ...\n",
       "196    [NEW YORK CITY — Microsoft Corp on Wednesday a...\n",
       "197    [NEW YORK — An equally divided federal appeals...\n",
       "198    [REDMOND, Wash,  — Microsoft’s ongoing push to...\n",
       "199    [CHICAGO —  Productive Edge has achieved Gold ...\n",
       "Name: internals_text_split_by_dot, Length: 200, dtype: object"
      ]
     },
     "execution_count": 7,
     "metadata": {},
     "output_type": "execute_result"
    }
   ],
   "source": [
    "def split_by_dot(x):\n",
    "    return(x.split(\".\"))\n",
    "\n",
    "df2[\"internals_text_split_by_dot\"] = df2[\"internals_text\"].apply(split_by_dot) \n",
    "\n",
    "df2[\"internals_text_split_by_dot\"]"
   ]
  },
  {
   "cell_type": "code",
   "execution_count": null,
   "metadata": {},
   "outputs": [],
   "source": []
  },
  {
   "cell_type": "markdown",
   "metadata": {},
   "source": [
    "## 1.1 Time serie index"
   ]
  },
  {
   "cell_type": "code",
   "execution_count": 8,
   "metadata": {
    "ExecuteTime": {
     "end_time": "2020-05-04T23:10:13.903925Z",
     "start_time": "2020-05-04T23:10:13.826935Z"
    }
   },
   "outputs": [
    {
     "data": {
      "text/html": [
       "<div>\n",
       "<style scoped>\n",
       "    .dataframe tbody tr th:only-of-type {\n",
       "        vertical-align: middle;\n",
       "    }\n",
       "\n",
       "    .dataframe tbody tr th {\n",
       "        vertical-align: top;\n",
       "    }\n",
       "\n",
       "    .dataframe thead th {\n",
       "        text-align: right;\n",
       "    }\n",
       "</style>\n",
       "<table border=\"1\" class=\"dataframe\">\n",
       "  <thead>\n",
       "    <tr style=\"text-align: right;\">\n",
       "      <th></th>\n",
       "      <th>n_of_page</th>\n",
       "      <th>principal_url</th>\n",
       "      <th>internal_urls</th>\n",
       "      <th>internals_dates</th>\n",
       "      <th>internals_text</th>\n",
       "      <th>internals_text_split_by_dot</th>\n",
       "      <th>time</th>\n",
       "    </tr>\n",
       "  </thead>\n",
       "  <tbody>\n",
       "    <tr>\n",
       "      <th>0</th>\n",
       "      <td>1</td>\n",
       "      <td>https://business.financialpost.com/page/1?s=mi...</td>\n",
       "      <td>https://business.financialpost.com/pmn/busines...</td>\n",
       "      <td>2019-08-27T09:25:03-04:00</td>\n",
       "      <td>AMSTERDAM — Microsoft is remotely collecting d...</td>\n",
       "      <td>[AMSTERDAM — Microsoft is remotely collecting ...</td>\n",
       "      <td>2019-08-27 09:25:03-04:00</td>\n",
       "    </tr>\n",
       "    <tr>\n",
       "      <th>1</th>\n",
       "      <td>1</td>\n",
       "      <td>https://business.financialpost.com/page/1?s=mi...</td>\n",
       "      <td>https://business.financialpost.com/technology/...</td>\n",
       "      <td>2015-03-18T11:01:07-04:00</td>\n",
       "      <td>ATLANTA, Georgia – This week, over 10,000 peop...</td>\n",
       "      <td>[ATLANTA, Georgia – This week, over 10,000 peo...</td>\n",
       "      <td>2015-03-18 11:01:07-04:00</td>\n",
       "    </tr>\n",
       "    <tr>\n",
       "      <th>2</th>\n",
       "      <td>1</td>\n",
       "      <td>https://business.financialpost.com/page/1?s=mi...</td>\n",
       "      <td>https://business.financialpost.com/pmn/press-r...</td>\n",
       "      <td>2018-09-25T09:02:40-04:00</td>\n",
       "      <td>NEW YORK —  Pexip, an award-winning video conf...</td>\n",
       "      <td>[NEW YORK —  Pexip, an award-winning video con...</td>\n",
       "      <td>2018-09-25 09:02:40-04:00</td>\n",
       "    </tr>\n",
       "    <tr>\n",
       "      <th>3</th>\n",
       "      <td>1</td>\n",
       "      <td>https://business.financialpost.com/page/1?s=mi...</td>\n",
       "      <td>https://business.financialpost.com/business-in...</td>\n",
       "      <td>2012-11-13T12:02:39-05:00</td>\n",
       "      <td>Microsoft’s Windows boss Steven Sinofsky is ou...</td>\n",
       "      <td>[Microsoft’s Windows boss Steven Sinofsky is o...</td>\n",
       "      <td>2012-11-13 12:02:39-05:00</td>\n",
       "    </tr>\n",
       "    <tr>\n",
       "      <th>4</th>\n",
       "      <td>1</td>\n",
       "      <td>https://business.financialpost.com/page/1?s=mi...</td>\n",
       "      <td>https://business.financialpost.com/business-in...</td>\n",
       "      <td>2013-04-15T11:56:02-04:00</td>\n",
       "      <td>Microsoft is working on a smartwatch with a 1....</td>\n",
       "      <td>[Microsoft is working on a smartwatch with a 1...</td>\n",
       "      <td>2013-04-15 11:56:02-04:00</td>\n",
       "    </tr>\n",
       "  </tbody>\n",
       "</table>\n",
       "</div>"
      ],
      "text/plain": [
       "   n_of_page                                      principal_url  \\\n",
       "0          1  https://business.financialpost.com/page/1?s=mi...   \n",
       "1          1  https://business.financialpost.com/page/1?s=mi...   \n",
       "2          1  https://business.financialpost.com/page/1?s=mi...   \n",
       "3          1  https://business.financialpost.com/page/1?s=mi...   \n",
       "4          1  https://business.financialpost.com/page/1?s=mi...   \n",
       "\n",
       "                                       internal_urls  \\\n",
       "0  https://business.financialpost.com/pmn/busines...   \n",
       "1  https://business.financialpost.com/technology/...   \n",
       "2  https://business.financialpost.com/pmn/press-r...   \n",
       "3  https://business.financialpost.com/business-in...   \n",
       "4  https://business.financialpost.com/business-in...   \n",
       "\n",
       "             internals_dates  \\\n",
       "0  2019-08-27T09:25:03-04:00   \n",
       "1  2015-03-18T11:01:07-04:00   \n",
       "2  2018-09-25T09:02:40-04:00   \n",
       "3  2012-11-13T12:02:39-05:00   \n",
       "4  2013-04-15T11:56:02-04:00   \n",
       "\n",
       "                                      internals_text  \\\n",
       "0  AMSTERDAM — Microsoft is remotely collecting d...   \n",
       "1  ATLANTA, Georgia – This week, over 10,000 peop...   \n",
       "2  NEW YORK —  Pexip, an award-winning video conf...   \n",
       "3  Microsoft’s Windows boss Steven Sinofsky is ou...   \n",
       "4  Microsoft is working on a smartwatch with a 1....   \n",
       "\n",
       "                         internals_text_split_by_dot  \\\n",
       "0  [AMSTERDAM — Microsoft is remotely collecting ...   \n",
       "1  [ATLANTA, Georgia – This week, over 10,000 peo...   \n",
       "2  [NEW YORK —  Pexip, an award-winning video con...   \n",
       "3  [Microsoft’s Windows boss Steven Sinofsky is o...   \n",
       "4  [Microsoft is working on a smartwatch with a 1...   \n",
       "\n",
       "                        time  \n",
       "0  2019-08-27 09:25:03-04:00  \n",
       "1  2015-03-18 11:01:07-04:00  \n",
       "2  2018-09-25 09:02:40-04:00  \n",
       "3  2012-11-13 12:02:39-05:00  \n",
       "4  2013-04-15 11:56:02-04:00  "
      ]
     },
     "execution_count": 8,
     "metadata": {},
     "output_type": "execute_result"
    }
   ],
   "source": [
    "df2[\"time\"] = pd.to_datetime(df2[\"internals_dates\"])\n",
    "df2.head()"
   ]
  },
  {
   "cell_type": "code",
   "execution_count": 9,
   "metadata": {
    "ExecuteTime": {
     "end_time": "2020-05-04T23:10:15.016765Z",
     "start_time": "2020-05-04T23:10:14.525759Z"
    }
   },
   "outputs": [
    {
     "data": {
      "text/html": [
       "<div>\n",
       "<style scoped>\n",
       "    .dataframe tbody tr th:only-of-type {\n",
       "        vertical-align: middle;\n",
       "    }\n",
       "\n",
       "    .dataframe tbody tr th {\n",
       "        vertical-align: top;\n",
       "    }\n",
       "\n",
       "    .dataframe thead th {\n",
       "        text-align: right;\n",
       "    }\n",
       "</style>\n",
       "<table border=\"1\" class=\"dataframe\">\n",
       "  <thead>\n",
       "    <tr style=\"text-align: right;\">\n",
       "      <th></th>\n",
       "      <th>n_of_page</th>\n",
       "      <th>principal_url</th>\n",
       "      <th>internal_urls</th>\n",
       "      <th>internals_dates</th>\n",
       "      <th>internals_text</th>\n",
       "      <th>internals_text_split_by_dot</th>\n",
       "    </tr>\n",
       "    <tr>\n",
       "      <th>time</th>\n",
       "      <th></th>\n",
       "      <th></th>\n",
       "      <th></th>\n",
       "      <th></th>\n",
       "      <th></th>\n",
       "      <th></th>\n",
       "    </tr>\n",
       "  </thead>\n",
       "  <tbody>\n",
       "    <tr>\n",
       "      <th>2010-04-01 14:23:00-04:00</th>\n",
       "      <td>2</td>\n",
       "      <td>https://business.financialpost.com/page/2?s=mi...</td>\n",
       "      <td>https://business.financialpost.com/technology/...</td>\n",
       "      <td>2010-04-01T14:23:00-04:00</td>\n",
       "      <td>Microsoft Corp.’s marathon legal battle with T...</td>\n",
       "      <td>[Microsoft Corp, ’s marathon legal battle with...</td>\n",
       "    </tr>\n",
       "    <tr>\n",
       "      <th>2010-04-07 08:04:00-04:00</th>\n",
       "      <td>4</td>\n",
       "      <td>https://business.financialpost.com/page/4?s=mi...</td>\n",
       "      <td>https://business.financialpost.com/investing/t...</td>\n",
       "      <td>2010-04-07T08:04:00-04:00</td>\n",
       "      <td>While Apple Inc. is providing a sneak peak of ...</td>\n",
       "      <td>[While Apple Inc,  is providing a sneak peak o...</td>\n",
       "    </tr>\n",
       "    <tr>\n",
       "      <th>2010-05-11 12:20:00-04:00</th>\n",
       "      <td>7</td>\n",
       "      <td>https://business.financialpost.com/page/7?s=mi...</td>\n",
       "      <td>https://business.financialpost.com/technology/...</td>\n",
       "      <td>2010-05-11T12:20:00-04:00</td>\n",
       "      <td>Just five months left to wait for Xbox fans.  ...</td>\n",
       "      <td>[Just five months left to wait for Xbox fans, ...</td>\n",
       "    </tr>\n",
       "    <tr>\n",
       "      <th>2010-05-11 14:28:00-04:00</th>\n",
       "      <td>1</td>\n",
       "      <td>https://business.financialpost.com/page/1?s=mi...</td>\n",
       "      <td>https://business.financialpost.com/technology/...</td>\n",
       "      <td>2010-05-11T14:28:00-04:00</td>\n",
       "      <td>As the US$290-million legal battle between i4i...</td>\n",
       "      <td>[As the US$290-million legal battle between i4...</td>\n",
       "    </tr>\n",
       "    <tr>\n",
       "      <th>2010-05-27 13:19:38-04:00</th>\n",
       "      <td>2</td>\n",
       "      <td>https://business.financialpost.com/page/2?s=mi...</td>\n",
       "      <td>https://business.financialpost.com/technology/...</td>\n",
       "      <td>2010-05-27T13:19:38-04:00</td>\n",
       "      <td>News that Apple has officially become the worl...</td>\n",
       "      <td>[News that Apple has officially become the wor...</td>\n",
       "    </tr>\n",
       "  </tbody>\n",
       "</table>\n",
       "</div>"
      ],
      "text/plain": [
       "                           n_of_page  \\\n",
       "time                                   \n",
       "2010-04-01 14:23:00-04:00          2   \n",
       "2010-04-07 08:04:00-04:00          4   \n",
       "2010-05-11 12:20:00-04:00          7   \n",
       "2010-05-11 14:28:00-04:00          1   \n",
       "2010-05-27 13:19:38-04:00          2   \n",
       "\n",
       "                                                               principal_url  \\\n",
       "time                                                                           \n",
       "2010-04-01 14:23:00-04:00  https://business.financialpost.com/page/2?s=mi...   \n",
       "2010-04-07 08:04:00-04:00  https://business.financialpost.com/page/4?s=mi...   \n",
       "2010-05-11 12:20:00-04:00  https://business.financialpost.com/page/7?s=mi...   \n",
       "2010-05-11 14:28:00-04:00  https://business.financialpost.com/page/1?s=mi...   \n",
       "2010-05-27 13:19:38-04:00  https://business.financialpost.com/page/2?s=mi...   \n",
       "\n",
       "                                                               internal_urls  \\\n",
       "time                                                                           \n",
       "2010-04-01 14:23:00-04:00  https://business.financialpost.com/technology/...   \n",
       "2010-04-07 08:04:00-04:00  https://business.financialpost.com/investing/t...   \n",
       "2010-05-11 12:20:00-04:00  https://business.financialpost.com/technology/...   \n",
       "2010-05-11 14:28:00-04:00  https://business.financialpost.com/technology/...   \n",
       "2010-05-27 13:19:38-04:00  https://business.financialpost.com/technology/...   \n",
       "\n",
       "                                     internals_dates  \\\n",
       "time                                                   \n",
       "2010-04-01 14:23:00-04:00  2010-04-01T14:23:00-04:00   \n",
       "2010-04-07 08:04:00-04:00  2010-04-07T08:04:00-04:00   \n",
       "2010-05-11 12:20:00-04:00  2010-05-11T12:20:00-04:00   \n",
       "2010-05-11 14:28:00-04:00  2010-05-11T14:28:00-04:00   \n",
       "2010-05-27 13:19:38-04:00  2010-05-27T13:19:38-04:00   \n",
       "\n",
       "                                                              internals_text  \\\n",
       "time                                                                           \n",
       "2010-04-01 14:23:00-04:00  Microsoft Corp.’s marathon legal battle with T...   \n",
       "2010-04-07 08:04:00-04:00  While Apple Inc. is providing a sneak peak of ...   \n",
       "2010-05-11 12:20:00-04:00  Just five months left to wait for Xbox fans.  ...   \n",
       "2010-05-11 14:28:00-04:00  As the US$290-million legal battle between i4i...   \n",
       "2010-05-27 13:19:38-04:00  News that Apple has officially become the worl...   \n",
       "\n",
       "                                                 internals_text_split_by_dot  \n",
       "time                                                                          \n",
       "2010-04-01 14:23:00-04:00  [Microsoft Corp, ’s marathon legal battle with...  \n",
       "2010-04-07 08:04:00-04:00  [While Apple Inc,  is providing a sneak peak o...  \n",
       "2010-05-11 12:20:00-04:00  [Just five months left to wait for Xbox fans, ...  \n",
       "2010-05-11 14:28:00-04:00  [As the US$290-million legal battle between i4...  \n",
       "2010-05-27 13:19:38-04:00  [News that Apple has officially become the wor...  "
      ]
     },
     "execution_count": 9,
     "metadata": {},
     "output_type": "execute_result"
    }
   ],
   "source": [
    "df2 = df2.sort_values(\"time\")\n",
    "df2 = df2.set_index(\"time\")\n",
    "df2.head()"
   ]
  },
  {
   "cell_type": "code",
   "execution_count": 10,
   "metadata": {
    "ExecuteTime": {
     "end_time": "2020-05-04T23:10:15.295902Z",
     "start_time": "2020-05-04T23:10:15.271014Z"
    }
   },
   "outputs": [],
   "source": [
    "df2.to_pickle(\"../data/microsoft_processed_text_with_time.pkl\")"
   ]
  },
  {
   "cell_type": "code",
   "execution_count": null,
   "metadata": {},
   "outputs": [],
   "source": []
  },
  {
   "cell_type": "code",
   "execution_count": null,
   "metadata": {},
   "outputs": [],
   "source": []
  },
  {
   "cell_type": "code",
   "execution_count": null,
   "metadata": {},
   "outputs": [],
   "source": []
  },
  {
   "cell_type": "markdown",
   "metadata": {},
   "source": [
    "# 2. Sentiment analysis by phrase"
   ]
  },
  {
   "cell_type": "code",
   "execution_count": 11,
   "metadata": {
    "ExecuteTime": {
     "end_time": "2020-05-04T23:10:25.874020Z",
     "start_time": "2020-05-04T23:10:25.817017Z"
    }
   },
   "outputs": [
    {
     "data": {
      "text/html": [
       "<div>\n",
       "<style scoped>\n",
       "    .dataframe tbody tr th:only-of-type {\n",
       "        vertical-align: middle;\n",
       "    }\n",
       "\n",
       "    .dataframe tbody tr th {\n",
       "        vertical-align: top;\n",
       "    }\n",
       "\n",
       "    .dataframe thead th {\n",
       "        text-align: right;\n",
       "    }\n",
       "</style>\n",
       "<table border=\"1\" class=\"dataframe\">\n",
       "  <thead>\n",
       "    <tr style=\"text-align: right;\">\n",
       "      <th></th>\n",
       "      <th>n_of_page</th>\n",
       "      <th>principal_url</th>\n",
       "      <th>internal_urls</th>\n",
       "      <th>internals_dates</th>\n",
       "      <th>internals_text</th>\n",
       "      <th>internals_text_split_by_dot</th>\n",
       "    </tr>\n",
       "    <tr>\n",
       "      <th>time</th>\n",
       "      <th></th>\n",
       "      <th></th>\n",
       "      <th></th>\n",
       "      <th></th>\n",
       "      <th></th>\n",
       "      <th></th>\n",
       "    </tr>\n",
       "  </thead>\n",
       "  <tbody>\n",
       "    <tr>\n",
       "      <th>2010-04-01 14:23:00-04:00</th>\n",
       "      <td>2</td>\n",
       "      <td>https://business.financialpost.com/page/2?s=mi...</td>\n",
       "      <td>https://business.financialpost.com/technology/...</td>\n",
       "      <td>2010-04-01T14:23:00-04:00</td>\n",
       "      <td>Microsoft Corp.’s marathon legal battle with T...</td>\n",
       "      <td>[Microsoft Corp, ’s marathon legal battle with...</td>\n",
       "    </tr>\n",
       "    <tr>\n",
       "      <th>2010-04-07 08:04:00-04:00</th>\n",
       "      <td>4</td>\n",
       "      <td>https://business.financialpost.com/page/4?s=mi...</td>\n",
       "      <td>https://business.financialpost.com/investing/t...</td>\n",
       "      <td>2010-04-07T08:04:00-04:00</td>\n",
       "      <td>While Apple Inc. is providing a sneak peak of ...</td>\n",
       "      <td>[While Apple Inc,  is providing a sneak peak o...</td>\n",
       "    </tr>\n",
       "    <tr>\n",
       "      <th>2010-05-11 12:20:00-04:00</th>\n",
       "      <td>7</td>\n",
       "      <td>https://business.financialpost.com/page/7?s=mi...</td>\n",
       "      <td>https://business.financialpost.com/technology/...</td>\n",
       "      <td>2010-05-11T12:20:00-04:00</td>\n",
       "      <td>Just five months left to wait for Xbox fans.  ...</td>\n",
       "      <td>[Just five months left to wait for Xbox fans, ...</td>\n",
       "    </tr>\n",
       "    <tr>\n",
       "      <th>2010-05-11 14:28:00-04:00</th>\n",
       "      <td>1</td>\n",
       "      <td>https://business.financialpost.com/page/1?s=mi...</td>\n",
       "      <td>https://business.financialpost.com/technology/...</td>\n",
       "      <td>2010-05-11T14:28:00-04:00</td>\n",
       "      <td>As the US$290-million legal battle between i4i...</td>\n",
       "      <td>[As the US$290-million legal battle between i4...</td>\n",
       "    </tr>\n",
       "    <tr>\n",
       "      <th>2010-05-27 13:19:38-04:00</th>\n",
       "      <td>2</td>\n",
       "      <td>https://business.financialpost.com/page/2?s=mi...</td>\n",
       "      <td>https://business.financialpost.com/technology/...</td>\n",
       "      <td>2010-05-27T13:19:38-04:00</td>\n",
       "      <td>News that Apple has officially become the worl...</td>\n",
       "      <td>[News that Apple has officially become the wor...</td>\n",
       "    </tr>\n",
       "    <tr>\n",
       "      <th>...</th>\n",
       "      <td>...</td>\n",
       "      <td>...</td>\n",
       "      <td>...</td>\n",
       "      <td>...</td>\n",
       "      <td>...</td>\n",
       "      <td>...</td>\n",
       "    </tr>\n",
       "    <tr>\n",
       "      <th>2020-03-27 16:49:17-04:00</th>\n",
       "      <td>7</td>\n",
       "      <td>https://business.financialpost.com/page/7?s=mi...</td>\n",
       "      <td>https://business.financialpost.com/pmn/busines...</td>\n",
       "      <td>2020-03-27T16:49:17-04:00</td>\n",
       "      <td>Microsoft Corp said on Friday it was divesting...</td>\n",
       "      <td>[Microsoft Corp said on Friday it was divestin...</td>\n",
       "    </tr>\n",
       "    <tr>\n",
       "      <th>2020-03-27 18:32:19-04:00</th>\n",
       "      <td>3</td>\n",
       "      <td>https://business.financialpost.com/page/3?s=mi...</td>\n",
       "      <td>https://business.financialpost.com/pmn/busines...</td>\n",
       "      <td>2020-03-27T18:32:19-04:00</td>\n",
       "      <td>Microsoft Corp on Friday said it would sell it...</td>\n",
       "      <td>[Microsoft Corp on Friday said it would sell i...</td>\n",
       "    </tr>\n",
       "    <tr>\n",
       "      <th>2020-03-30 13:17:20-04:00</th>\n",
       "      <td>7</td>\n",
       "      <td>https://business.financialpost.com/page/7?s=mi...</td>\n",
       "      <td>https://business.financialpost.com/pmn/busines...</td>\n",
       "      <td>2020-03-30T13:17:20-04:00</td>\n",
       "      <td>The number of people using Microsoft’s Skype v...</td>\n",
       "      <td>[The number of people using Microsoft’s Skype ...</td>\n",
       "    </tr>\n",
       "    <tr>\n",
       "      <th>2020-03-31 09:00:43-04:00</th>\n",
       "      <td>2</td>\n",
       "      <td>https://business.financialpost.com/page/2?s=mi...</td>\n",
       "      <td>https://business.financialpost.com/pmn/press-r...</td>\n",
       "      <td>2020-03-31T09:00:43-04:00</td>\n",
       "      <td>IRVINE, Calif. —  Ingram Micro Cloud announced...</td>\n",
       "      <td>[IRVINE, Calif,  —  Ingram Micro Cloud announc...</td>\n",
       "    </tr>\n",
       "    <tr>\n",
       "      <th>2020-04-07 09:00:22-04:00</th>\n",
       "      <td>2</td>\n",
       "      <td>https://business.financialpost.com/page/2?s=mi...</td>\n",
       "      <td>https://business.financialpost.com/pmn/press-r...</td>\n",
       "      <td>2020-04-07T09:00:22-04:00</td>\n",
       "      <td>The latest version of Dataiku enables real-tim...</td>\n",
       "      <td>[The latest version of Dataiku enables real-ti...</td>\n",
       "    </tr>\n",
       "  </tbody>\n",
       "</table>\n",
       "<p>200 rows × 6 columns</p>\n",
       "</div>"
      ],
      "text/plain": [
       "                           n_of_page  \\\n",
       "time                                   \n",
       "2010-04-01 14:23:00-04:00          2   \n",
       "2010-04-07 08:04:00-04:00          4   \n",
       "2010-05-11 12:20:00-04:00          7   \n",
       "2010-05-11 14:28:00-04:00          1   \n",
       "2010-05-27 13:19:38-04:00          2   \n",
       "...                              ...   \n",
       "2020-03-27 16:49:17-04:00          7   \n",
       "2020-03-27 18:32:19-04:00          3   \n",
       "2020-03-30 13:17:20-04:00          7   \n",
       "2020-03-31 09:00:43-04:00          2   \n",
       "2020-04-07 09:00:22-04:00          2   \n",
       "\n",
       "                                                               principal_url  \\\n",
       "time                                                                           \n",
       "2010-04-01 14:23:00-04:00  https://business.financialpost.com/page/2?s=mi...   \n",
       "2010-04-07 08:04:00-04:00  https://business.financialpost.com/page/4?s=mi...   \n",
       "2010-05-11 12:20:00-04:00  https://business.financialpost.com/page/7?s=mi...   \n",
       "2010-05-11 14:28:00-04:00  https://business.financialpost.com/page/1?s=mi...   \n",
       "2010-05-27 13:19:38-04:00  https://business.financialpost.com/page/2?s=mi...   \n",
       "...                                                                      ...   \n",
       "2020-03-27 16:49:17-04:00  https://business.financialpost.com/page/7?s=mi...   \n",
       "2020-03-27 18:32:19-04:00  https://business.financialpost.com/page/3?s=mi...   \n",
       "2020-03-30 13:17:20-04:00  https://business.financialpost.com/page/7?s=mi...   \n",
       "2020-03-31 09:00:43-04:00  https://business.financialpost.com/page/2?s=mi...   \n",
       "2020-04-07 09:00:22-04:00  https://business.financialpost.com/page/2?s=mi...   \n",
       "\n",
       "                                                               internal_urls  \\\n",
       "time                                                                           \n",
       "2010-04-01 14:23:00-04:00  https://business.financialpost.com/technology/...   \n",
       "2010-04-07 08:04:00-04:00  https://business.financialpost.com/investing/t...   \n",
       "2010-05-11 12:20:00-04:00  https://business.financialpost.com/technology/...   \n",
       "2010-05-11 14:28:00-04:00  https://business.financialpost.com/technology/...   \n",
       "2010-05-27 13:19:38-04:00  https://business.financialpost.com/technology/...   \n",
       "...                                                                      ...   \n",
       "2020-03-27 16:49:17-04:00  https://business.financialpost.com/pmn/busines...   \n",
       "2020-03-27 18:32:19-04:00  https://business.financialpost.com/pmn/busines...   \n",
       "2020-03-30 13:17:20-04:00  https://business.financialpost.com/pmn/busines...   \n",
       "2020-03-31 09:00:43-04:00  https://business.financialpost.com/pmn/press-r...   \n",
       "2020-04-07 09:00:22-04:00  https://business.financialpost.com/pmn/press-r...   \n",
       "\n",
       "                                     internals_dates  \\\n",
       "time                                                   \n",
       "2010-04-01 14:23:00-04:00  2010-04-01T14:23:00-04:00   \n",
       "2010-04-07 08:04:00-04:00  2010-04-07T08:04:00-04:00   \n",
       "2010-05-11 12:20:00-04:00  2010-05-11T12:20:00-04:00   \n",
       "2010-05-11 14:28:00-04:00  2010-05-11T14:28:00-04:00   \n",
       "2010-05-27 13:19:38-04:00  2010-05-27T13:19:38-04:00   \n",
       "...                                              ...   \n",
       "2020-03-27 16:49:17-04:00  2020-03-27T16:49:17-04:00   \n",
       "2020-03-27 18:32:19-04:00  2020-03-27T18:32:19-04:00   \n",
       "2020-03-30 13:17:20-04:00  2020-03-30T13:17:20-04:00   \n",
       "2020-03-31 09:00:43-04:00  2020-03-31T09:00:43-04:00   \n",
       "2020-04-07 09:00:22-04:00  2020-04-07T09:00:22-04:00   \n",
       "\n",
       "                                                              internals_text  \\\n",
       "time                                                                           \n",
       "2010-04-01 14:23:00-04:00  Microsoft Corp.’s marathon legal battle with T...   \n",
       "2010-04-07 08:04:00-04:00  While Apple Inc. is providing a sneak peak of ...   \n",
       "2010-05-11 12:20:00-04:00  Just five months left to wait for Xbox fans.  ...   \n",
       "2010-05-11 14:28:00-04:00  As the US$290-million legal battle between i4i...   \n",
       "2010-05-27 13:19:38-04:00  News that Apple has officially become the worl...   \n",
       "...                                                                      ...   \n",
       "2020-03-27 16:49:17-04:00  Microsoft Corp said on Friday it was divesting...   \n",
       "2020-03-27 18:32:19-04:00  Microsoft Corp on Friday said it would sell it...   \n",
       "2020-03-30 13:17:20-04:00  The number of people using Microsoft’s Skype v...   \n",
       "2020-03-31 09:00:43-04:00  IRVINE, Calif. —  Ingram Micro Cloud announced...   \n",
       "2020-04-07 09:00:22-04:00  The latest version of Dataiku enables real-tim...   \n",
       "\n",
       "                                                 internals_text_split_by_dot  \n",
       "time                                                                          \n",
       "2010-04-01 14:23:00-04:00  [Microsoft Corp, ’s marathon legal battle with...  \n",
       "2010-04-07 08:04:00-04:00  [While Apple Inc,  is providing a sneak peak o...  \n",
       "2010-05-11 12:20:00-04:00  [Just five months left to wait for Xbox fans, ...  \n",
       "2010-05-11 14:28:00-04:00  [As the US$290-million legal battle between i4...  \n",
       "2010-05-27 13:19:38-04:00  [News that Apple has officially become the wor...  \n",
       "...                                                                      ...  \n",
       "2020-03-27 16:49:17-04:00  [Microsoft Corp said on Friday it was divestin...  \n",
       "2020-03-27 18:32:19-04:00  [Microsoft Corp on Friday said it would sell i...  \n",
       "2020-03-30 13:17:20-04:00  [The number of people using Microsoft’s Skype ...  \n",
       "2020-03-31 09:00:43-04:00  [IRVINE, Calif,  —  Ingram Micro Cloud announc...  \n",
       "2020-04-07 09:00:22-04:00  [The latest version of Dataiku enables real-ti...  \n",
       "\n",
       "[200 rows x 6 columns]"
      ]
     },
     "execution_count": 11,
     "metadata": {},
     "output_type": "execute_result"
    }
   ],
   "source": [
    "df2 = pd.read_pickle(\"../data/microsoft_processed_text_with_time.pkl\")\n",
    "df2"
   ]
  },
  {
   "cell_type": "code",
   "execution_count": 12,
   "metadata": {
    "ExecuteTime": {
     "end_time": "2020-05-04T23:10:26.722831Z",
     "start_time": "2020-05-04T23:10:26.715376Z"
    }
   },
   "outputs": [],
   "source": [
    "def sentimental_analysis_by_phrase(y):\n",
    "    \n",
    "    y = list(map(lambda x: analyser.polarity_scores(x)[\"compound\"],y))\n",
    "    y = np.array(y)\n",
    "    y = y[y != 0]\n",
    "    return(y)\n",
    "\n",
    "#sen_an_phrase = np.vectorize(sentimental_analysis_by_phrase)"
   ]
  },
  {
   "cell_type": "code",
   "execution_count": 13,
   "metadata": {
    "ExecuteTime": {
     "end_time": "2020-05-04T23:10:27.595519Z",
     "start_time": "2020-05-04T23:10:27.585834Z"
    }
   },
   "outputs": [
    {
     "data": {
      "text/plain": [
       "['Microsoft Corp',\n",
       " '’s marathon legal battle with Toronto’s i4i Inc',\n",
       " ' appears destined for the United States Supreme Court',\n",
       " '\\xa0 On Thursday, the U',\n",
       " 'S',\n",
       " ' Federal Circuit Court of Appeals denied Microsoft’s petition for rehearing its patent dispute case with i4i',\n",
       " ' The Court also denied Microsoft’s request for an \"en banc\" hearing',\n",
       " '\"This has been a long and arduous process, but this decision is a powerful reinforcement of the message that smaller enterprises and invetors who own intellectual property can and will be protected,\" i4i chairman Loudon Owen said in a statement emailed to the Financial Post',\n",
       " '\\xa0\"Microsoft yet again swung hard at i4i and we are still standing tall and ready to fight in the war against patent infringement',\n",
       " '\"\\xa0\\xa0Microsoft officials would not say if the company planned to appeal the case to the U',\n",
       " 'S',\n",
       " ' Supreme Court',\n",
       " ' “We’re disappointed with the decision,\" Microsoft’s director of public affairs Kevin Kutz said in a statement',\n",
       " ' \"As far as next steps, we continue to believe there are important matters of patent law that still need to be properly addressed, and we are considering our options for going forward',\n",
       " '” ']"
      ]
     },
     "execution_count": 13,
     "metadata": {},
     "output_type": "execute_result"
    }
   ],
   "source": [
    "\n",
    "text_2 = df2[\"internals_text_split_by_dot\"][0]\n",
    "text_2"
   ]
  },
  {
   "cell_type": "code",
   "execution_count": 14,
   "metadata": {
    "ExecuteTime": {
     "end_time": "2020-05-04T23:10:28.312867Z",
     "start_time": "2020-05-04T23:10:28.304556Z"
    }
   },
   "outputs": [
    {
     "data": {
      "text/plain": [
       "array([-0.2732,  0.7506, -0.6808, -0.4404,  0.9186, -0.8176,  0.5574,\n",
       "       -0.4767,  0.2263])"
      ]
     },
     "execution_count": 14,
     "metadata": {},
     "output_type": "execute_result"
    }
   ],
   "source": [
    "sentimental_analysis_by_phrase(text_2)"
   ]
  },
  {
   "cell_type": "code",
   "execution_count": 15,
   "metadata": {
    "ExecuteTime": {
     "end_time": "2020-05-04T23:10:29.628190Z",
     "start_time": "2020-05-04T23:10:28.952602Z"
    }
   },
   "outputs": [
    {
     "data": {
      "text/plain": [
       "time\n",
       "2010-04-01 14:23:00-04:00    [-0.2732, 0.7506, -0.6808, -0.4404, 0.9186, -0...\n",
       "2010-04-07 08:04:00-04:00             [0.128, 0.4728, -0.0258, 0.5267, -0.296]\n",
       "2010-05-11 12:20:00-04:00     [0.2263, 0.4215, 0.5499, 0.3612, 0.3425, 0.4215]\n",
       "2010-05-11 14:28:00-04:00    [-0.2732, 0.7506, -0.4019, 0.4404, -0.2023, 0....\n",
       "2010-05-27 13:19:38-04:00    [0.3612, 0.3612, 0.3612, 0.3612, 0.5574, 0.557...\n",
       "                                                   ...                        \n",
       "2020-03-27 16:49:17-04:00                                    [-0.507, -0.0941]\n",
       "2020-03-27 18:32:19-04:00    [-0.4588, 0.3603, 0.3612, -0.5423, -0.0941, 0....\n",
       "2020-03-30 13:17:20-04:00                      [0.0772, 0.802, 0.3612, 0.6808]\n",
       "2020-03-31 09:00:43-04:00    [0.7783, 0.875, 0.8481, 0.2716, 0.4767, 0.4767...\n",
       "2020-04-07 09:00:22-04:00     [0.296, 0.6808, 0.2732, 0.7783, 0.6369, -0.2023]\n",
       "Name: sentimental_analysis_split_by_dot, Length: 200, dtype: object"
      ]
     },
     "execution_count": 15,
     "metadata": {},
     "output_type": "execute_result"
    }
   ],
   "source": [
    "df2[\"sentimental_analysis_split_by_dot\"] = df2[\"internals_text_split_by_dot\"].apply(sentimental_analysis_by_phrase) \n",
    "\n",
    "df2[\"sentimental_analysis_split_by_dot\"]"
   ]
  },
  {
   "cell_type": "code",
   "execution_count": 16,
   "metadata": {
    "ExecuteTime": {
     "end_time": "2020-05-04T23:10:30.260164Z",
     "start_time": "2020-05-04T23:10:30.239651Z"
    }
   },
   "outputs": [
    {
     "name": "stderr",
     "output_type": "stream",
     "text": [
      "/Users/amit/src/stock_prediction/env/lib/python3.8/site-packages/numpy/core/fromnumeric.py:3372: RuntimeWarning: Mean of empty slice.\n",
      "  return _methods._mean(a, axis=axis, dtype=dtype,\n"
     ]
    },
    {
     "data": {
      "text/plain": [
       "time\n",
       "2010-04-01 14:23:00-04:00   -0.026200\n",
       "2010-04-07 08:04:00-04:00    0.161140\n",
       "2010-05-11 12:20:00-04:00    0.387150\n",
       "2010-05-11 14:28:00-04:00    0.058018\n",
       "2010-05-27 13:19:38-04:00    0.420060\n",
       "                               ...   \n",
       "2020-03-27 16:49:17-04:00   -0.300550\n",
       "2020-03-27 18:32:19-04:00   -0.033933\n",
       "2020-03-30 13:17:20-04:00    0.480300\n",
       "2020-03-31 09:00:43-04:00    0.525607\n",
       "2020-04-07 09:00:22-04:00    0.410483\n",
       "Name: sentimental_analysis_split_by_dot_average, Length: 200, dtype: float64"
      ]
     },
     "execution_count": 16,
     "metadata": {},
     "output_type": "execute_result"
    }
   ],
   "source": [
    "df2[\"sentimental_analysis_split_by_dot_average\"] = df2[\"sentimental_analysis_split_by_dot\"].apply(np.mean)\n",
    "df2[\"sentimental_analysis_split_by_dot_average\"]"
   ]
  },
  {
   "cell_type": "markdown",
   "metadata": {},
   "source": [
    "# 3. Sentiment analysis applied to the complet text (online news)"
   ]
  },
  {
   "cell_type": "code",
   "execution_count": 17,
   "metadata": {
    "ExecuteTime": {
     "end_time": "2020-05-04T23:10:35.094516Z",
     "start_time": "2020-05-04T23:10:35.089650Z"
    }
   },
   "outputs": [],
   "source": [
    "def sentimental_analysis(y):\n",
    "    \n",
    "    return(analyser.polarity_scores(y)[\"compound\"])\n"
   ]
  },
  {
   "cell_type": "code",
   "execution_count": 18,
   "metadata": {
    "ExecuteTime": {
     "end_time": "2020-05-04T23:10:40.122883Z",
     "start_time": "2020-05-04T23:10:35.809182Z"
    }
   },
   "outputs": [
    {
     "data": {
      "text/plain": [
       "time\n",
       "2010-04-01 14:23:00-04:00    0.4118\n",
       "2010-04-07 08:04:00-04:00    0.7916\n",
       "2010-05-11 12:20:00-04:00    0.9540\n",
       "2010-05-11 14:28:00-04:00    0.8451\n",
       "2010-05-27 13:19:38-04:00    0.9789\n",
       "                              ...  \n",
       "2020-03-27 16:49:17-04:00   -0.5639\n",
       "2020-03-27 18:32:19-04:00   -0.3464\n",
       "2020-03-30 13:17:20-04:00    0.9393\n",
       "2020-03-31 09:00:43-04:00    0.9962\n",
       "2020-04-07 09:00:22-04:00    0.9590\n",
       "Name: sentimental_analysis_complete_text, Length: 200, dtype: float64"
      ]
     },
     "execution_count": 18,
     "metadata": {},
     "output_type": "execute_result"
    }
   ],
   "source": [
    "df2[\"sentimental_analysis_complete_text\"] = df2[\"internals_text\"].apply(sentimental_analysis) \n",
    "\n",
    "df2[\"sentimental_analysis_complete_text\"]"
   ]
  },
  {
   "cell_type": "markdown",
   "metadata": {},
   "source": [
    "## 4. Some Plots"
   ]
  },
  {
   "cell_type": "code",
   "execution_count": 19,
   "metadata": {
    "ExecuteTime": {
     "end_time": "2020-05-04T23:10:46.442469Z",
     "start_time": "2020-05-04T23:10:44.783304Z"
    }
   },
   "outputs": [
    {
     "data": {
      "image/png": "[encoded data removed]",
      "text/plain": [
       "<Figure size 1080x720 with 1 Axes>"
      ]
     },
     "metadata": {},
     "output_type": "display_data"
    }
   ],
   "source": [
    "plt.style.use('seaborn-dark')\n",
    "df2[[\"sentimental_analysis_split_by_dot_average\",\"sentimental_analysis_complete_text\"]].plot(cmap = \"viridis\",linestyle='-',figsize = (15,10))\n",
    "plt.grid()\n",
    "plt.show()"
   ]
  },
  {
   "cell_type": "code",
   "execution_count": null,
   "metadata": {},
   "outputs": [],
   "source": []
  },
  {
   "cell_type": "code",
   "execution_count": 23,
   "metadata": {
    "ExecuteTime": {
     "end_time": "2020-05-04T23:10:50.163610Z",
     "start_time": "2020-05-04T23:10:50.148440Z"
    }
   },
   "outputs": [],
   "source": [
    "df2.to_pickle(\"../data/microsoft_processed_text_with_time_and_sentiments.pkl\")"
   ]
  },
  {
   "cell_type": "code",
   "execution_count": null,
   "metadata": {},
   "outputs": [],
   "source": []
  },
  {
   "cell_type": "code",
   "execution_count": null,
   "metadata": {},
   "outputs": [],
   "source": []
  },
  {
   "cell_type": "code",
   "execution_count": null,
   "metadata": {},
   "outputs": [],
   "source": []
  }
 ],
 "metadata": {
  "kernelspec": {
   "display_name": "Python 3",
   "language": "python",
   "name": "python3"
  },
  "language_info": {
   "codemirror_mode": {
    "name": "ipython",
    "version": 3
   },
   "file_extension": ".py",
   "mimetype": "text/x-python",
   "name": "python",
   "nbconvert_exporter": "python",
   "pygments_lexer": "ipython3",
   "version": "3.8.5"
  },
  "latex_envs": {
   "LaTeX_envs_menu_present": true,
   "autoclose": false,
   "autocomplete": true,
   "bibliofile": "biblio.bib",
   "cite_by": "apalike",
   "current_citInitial": 1,
   "eqLabelWithNumbers": true,
   "eqNumInitial": 1,
   "hotkeys": {
    "equation": "Ctrl-E",
    "itemize": "Ctrl-I"
   },
   "labels_anchors": false,
   "latex_user_defs": false,
   "report_style_numbering": false,
   "user_envs_cfg": false
  },
  "toc": {
   "base_numbering": 1,
   "nav_menu": {},
   "number_sections": true,
   "sideBar": true,
   "skip_h1_title": false,
   "title_cell": "Table of Contents",
   "title_sidebar": "Contents",
   "toc_cell": false,
   "toc_position": {},
   "toc_section_display": true,
   "toc_window_display": false
  },
  "varInspector": {
   "cols": {
    "lenName": 16,
    "lenType": 16,
    "lenVar": 40
   },
   "kernels_config": {
    "python": {
     "delete_cmd_postfix": "",
     "delete_cmd_prefix": "del ",
     "library": "var_list.py",
     "varRefreshCmd": "print(var_dic_list())"
    },
    "r": {
     "delete_cmd_postfix": ") ",
     "delete_cmd_prefix": "rm(",
     "library": "var_list.r",
     "varRefreshCmd": "cat(var_dic_list()) "
    }
   },
   "types_to_exclude": [
    "module",
    "function",
    "builtin_function_or_method",
    "instance",
    "_Feature"
   ],
   "window_display": false
  }
 },
 "nbformat": 4,
 "nbformat_minor": 4
}
